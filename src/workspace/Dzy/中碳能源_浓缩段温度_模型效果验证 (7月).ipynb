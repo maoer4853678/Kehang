{
 "cells": [
  {
   "cell_type": "code",
   "execution_count": 192,
   "metadata": {},
   "outputs": [
    {
     "data": {
      "text/plain": [
       "<module 'Khfeature' from '../../../tool/Khfeature.py'>"
      ]
     },
     "execution_count": 192,
     "metadata": {},
     "output_type": "execute_result"
    }
   ],
   "source": [
    "import sys\n",
    "# %store -r SYSPATHS\n",
    "SYSPATHS = {\"tool\":\"../../../tool\"}\n",
    "sys.path.append(SYSPATHS['tool'])\n",
    "import Khfeature as kf\n",
    "import Khcore1 as kc1\n",
    "from imp import reload\n",
    "import MyEcharts as me\n",
    "import pandas as pd\n",
    "import numpy as np\n",
    "import os\n",
    "from sklearn.preprocessing import MinMaxScaler,StandardScaler\n",
    "from sklearn import linear_model\n",
    "import pickle\n",
    "import math\n",
    "\n",
    "reload(kc1)\n",
    "reload(kf)"
   ]
  },
  {
   "cell_type": "code",
   "execution_count": 193,
   "metadata": {},
   "outputs": [],
   "source": [
    "step = \"1min\"  ## 计算步进间隔\n",
    "## 选用三个 不同的时间尺度\n",
    "temp_window = \"15min\"  ## 平均温度计算窗口: 平均温度的窗口尽量小, 体现其短时作用, 可以快速结束报警, 尺度也不能太短, 防止label毛刺 \n",
    "roll_window = '2H'  ## 滑动计算窗口: 滑动窗口用于计算Q1,Q3,IQR 和 diff, 滑动窗口下的统计量, 时间可以稍微长点\n",
    "slope_window = \"3H\"  ## 斜率计算窗口: 滑动温度斜率窗口, 因为温度存在小范围周期波动, 所以需要将时间窗口放大\n",
    "th = 61.5  ## 报警温度阈值\n",
    "rate = 0.55  ## 报警概率阈值"
   ]
  },
  {
   "cell_type": "markdown",
   "metadata": {},
   "source": [
    "# 因变量模型效果验证"
   ]
  },
  {
   "cell_type": "markdown",
   "metadata": {},
   "source": [
    "## 一、获取原始数据"
   ]
  },
  {
   "cell_type": "code",
   "execution_count": 194,
   "metadata": {},
   "outputs": [],
   "source": [
    "### 1. 获取原始数据\n",
    "names = [\"TE_1003a\",\"TE_1003b\",\"TE_1003c\"]\n",
    "datas=  []\n",
    "for name in names:\n",
    "    datas.append(kc1.ReadRawData(name,month=\"2019_07\"))\n",
    "data = pd.concat(datas,axis=1)\n",
    "data.columns = names\n",
    "data['PT_4001'] = kc1.ReadRawData(\"PT_4001\",month=\"2019_07\",factory=\"中碳能源\")\n",
    "data['TE_1003'] = kc1.ReadRawData(\"TE_1003\",column='value', factory='中碳能源', month='2019_07')\n",
    "data = data.resample(step).mean()\n",
    "data= data[data.index<\"2019-07-12 00:00:00\"]"
   ]
  },
  {
   "cell_type": "markdown",
   "metadata": {},
   "source": [
    "## 二、自动打标签\n",
    "    根据浓缩段平均温度 生成label"
   ]
  },
  {
   "cell_type": "code",
   "execution_count": 195,
   "metadata": {},
   "outputs": [
    {
     "name": "stdout",
     "output_type": "stream",
     "text": [
      "save image as label_auto\n",
      "add label successful \n"
     ]
    },
    {
     "name": "stderr",
     "output_type": "stream",
     "text": [
      "../../../tool/Khfeature.py:109: SettingWithCopyWarning: \n",
      "A value is trying to be set on a copy of a slice from a DataFrame.\n",
      "Try using .loc[row_indexer,col_indexer] = value instead\n",
      "\n",
      "See the caveats in the documentation: http://pandas.pydata.org/pandas-docs/stable/indexing.html#indexing-view-versus-copy\n",
      "  right_window = pd.to_timedelta(right_window).total_seconds()/S\n",
      "../../../tool/Khfeature.py:110: SettingWithCopyWarning: \n",
      "A value is trying to be set on a copy of a slice from a DataFrame.\n",
      "Try using .loc[row_indexer,col_indexer] = value instead\n",
      "\n",
      "See the caveats in the documentation: http://pandas.pydata.org/pandas-docs/stable/indexing.html#indexing-view-versus-copy\n",
      "  left = (left_window)*N-1\n"
     ]
    }
   ],
   "source": [
    "s2 = kf.SingleTsFeature(data['TE_1003'])\n",
    "s2.add_label(th=th,left_window = '60min',right_window=\"1min\",merge_window=\"20min\",filename=\"label_auto\")\n",
    "label = s2.GetDf()[['label']]"
   ]
  },
  {
   "cell_type": "markdown",
   "metadata": {},
   "source": [
    "##### 查看自动标签效果"
   ]
  },
  {
   "cell_type": "code",
   "execution_count": 196,
   "metadata": {},
   "outputs": [
    {
     "data": {
      "text/html": [
       "<iframe src=\"./html/Temp_raw_label_07.html\" width=\"900px\" height=\"400px\" frameborder=\"0\" scrolling=\"no\"> </iframe>"
      ],
      "text/plain": [
       "<IPython.core.display.HTML object>"
      ]
     },
     "execution_count": 196,
     "metadata": {},
     "output_type": "execute_result"
    }
   ],
   "source": [
    "temp = pd.concat([data,label],axis=1)\n",
    "temp['label'] = temp['label']*70\n",
    "temp['PT_4001'] = temp['PT_4001']*100\n",
    "me.Plot_LineBar(temp,name='Temp_raw_label_07',overwrite=True)"
   ]
  },
  {
   "cell_type": "markdown",
   "metadata": {},
   "source": [
    "## 三、特征加工"
   ]
  },
  {
   "cell_type": "markdown",
   "metadata": {},
   "source": [
    "### 1. 浓缩温度 temp : temp_window 下的 平均温度最大值\n",
    "### 2. 浓缩温度 diff ： roll_window 下的 温度差值均值\n",
    "### 3. 浓缩温度 iqr ：roll_window 下的 平均温度IQR\n",
    "### 4. 浓缩温度 slope ：slope_window 下的 拟合斜率"
   ]
  },
  {
   "cell_type": "code",
   "execution_count": 197,
   "metadata": {},
   "outputs": [
    {
     "name": "stdout",
     "output_type": "stream",
     "text": [
      "add q3 successful \n",
      "add q1 successful \n"
     ]
    },
    {
     "name": "stderr",
     "output_type": "stream",
     "text": [
      "../../../tool/Khfeature.py:200: FutureWarning: Currently, 'apply' passes the values as ndarrays to the applied function. In the future, this will change to passing it as Series objects. You need to specify 'raw=True' to keep the current behaviour, and you can pass 'raw=False' to silence this warning\n",
      "  加工斜率特征\n"
     ]
    },
    {
     "name": "stdout",
     "output_type": "stream",
     "text": [
      "add_slope successful \n"
     ]
    }
   ],
   "source": [
    "### 1. 加工特征\n",
    "s1 = kf.SingleTsFeature(data[\"TE_1003\"]-th)  ##  将原始温度 减去 温度阈值 加工特征\n",
    "s1.add_roll_quantile(q = 0.75,window=roll_window,varname = \"q3\")\n",
    "s1.add_roll_quantile(q = 0.25,window=roll_window,varname = \"q1\")\n",
    "s1.add_slope(window=slope_window)"
   ]
  },
  {
   "cell_type": "code",
   "execution_count": 198,
   "metadata": {},
   "outputs": [],
   "source": [
    "###  2. 某些特征 用户可自行生成\n",
    "df = s1.GetDf()\n",
    "df['iqr'] = df1['q3'] -df1['q1']\n",
    "df['diff'] = data[['TE_1003a','TE_1003b','TE_1003c']].max(axis=1)-data['TE_1003']  ## 加工 温度差值 diff\n",
    "df['diff'] = df['diff'].rolling(roll_window).mean()\n",
    "df['temp'] = df['TE_1003'].rolling(temp_window).max()\n",
    "df1 = pd.concat([df,label],axis=1)\n",
    "\n",
    "df1['PT_4001'] = kc1.ReadRawData(\"PT_4001\",month=\"2019_07\",factory=\"中碳能源\")\n",
    "df1= df1[df1.index<\"2019-07-12 00:00:00\"].dropna()"
   ]
  },
  {
   "cell_type": "code",
   "execution_count": 199,
   "metadata": {},
   "outputs": [
    {
     "data": {
      "text/html": [
       "<iframe src=\"./html/Feature_label_07.html\" width=\"900px\" height=\"400px\" frameborder=\"0\" scrolling=\"no\"> </iframe>"
      ],
      "text/plain": [
       "<IPython.core.display.HTML object>"
      ]
     },
     "execution_count": 199,
     "metadata": {},
     "output_type": "execute_result"
    }
   ],
   "source": [
    "me.Plot_LineBar(df1,columns = [\"temp\",'diff','iqr','slope','label'],name='Feature_label_07',overwrite=True)"
   ]
  },
  {
   "cell_type": "markdown",
   "metadata": {},
   "source": [
    "## 三、模型预测 （调用6月model）"
   ]
  },
  {
   "cell_type": "code",
   "execution_count": 200,
   "metadata": {},
   "outputs": [],
   "source": [
    "# scaler = pickle.load(open(\"./model/scaler.pkl\",\"rb\"))\n",
    "model = pickle.load(open(\"./model/model.pkl\",\"rb\"))"
   ]
  },
  {
   "cell_type": "code",
   "execution_count": 206,
   "metadata": {},
   "outputs": [
    {
     "data": {
      "text/plain": [
       "(array([[ 2.8438591 ,  0.75461285, -0.57411258, -1.05654281]]),\n",
       " array([1.50807295]))"
      ]
     },
     "execution_count": 206,
     "metadata": {},
     "output_type": "execute_result"
    }
   ],
   "source": [
    "model.coef_,model.intercept_"
   ]
  },
  {
   "cell_type": "code",
   "execution_count": 203,
   "metadata": {},
   "outputs": [],
   "source": [
    "columns = [\"temp\",'diff','iqr','slope']\n",
    "X1= df1[columns].values\n",
    "df1['Logistic06'] = model.predict_proba(X1)[:,1]"
   ]
  },
  {
   "cell_type": "code",
   "execution_count": 204,
   "metadata": {},
   "outputs": [],
   "source": [
    "## 阈值规则修正label\n",
    "## 将温度超过 th 的 label 直接置成报警概率\n",
    "temp = df1.loc[df1[df1['TE_1003']>0].index,\"Logistic06\"]\n",
    "df1.loc[temp[temp<rate].index,\"Logistic06\"] = rate\n",
    "df1['rate'] = rate"
   ]
  },
  {
   "cell_type": "code",
   "execution_count": 205,
   "metadata": {},
   "outputs": [
    {
     "data": {
      "text/html": [
       "<iframe src=\"./html/Temp_Label_Logistic_07_0.html\" width=\"900px\" height=\"400px\" frameborder=\"0\" scrolling=\"no\"> </iframe>"
      ],
      "text/plain": [
       "<IPython.core.display.HTML object>"
      ]
     },
     "execution_count": 205,
     "metadata": {},
     "output_type": "execute_result"
    }
   ],
   "source": [
    "me.Plot_LineBar(df1,columns = ['TE_1003','Logistic06','label','rate', 'PT_4001'],\\\n",
    "                name=\"Temp_Label_Logistic_07_0\",overwrite=True)"
   ]
  },
  {
   "cell_type": "markdown",
   "metadata": {},
   "source": [
    "## 四、模型预测 （7月训练model）"
   ]
  },
  {
   "cell_type": "code",
   "execution_count": 208,
   "metadata": {},
   "outputs": [
    {
     "name": "stderr",
     "output_type": "stream",
     "text": [
      "/root/anaconda3/lib/python3.7/site-packages/sklearn/utils/validation.py:578: DataConversionWarning: A column-vector y was passed when a 1d array was expected. Please change the shape of y to (n_samples, ), for example using ravel().\n",
      "  y = column_or_1d(y, warn=True)\n"
     ]
    },
    {
     "name": "stdout",
     "output_type": "stream",
     "text": [
      "0.9253740766462529\n",
      "[[ 3.37198178  0.50056489 -0.43037506 -1.61088564]] [1.34295283]\n"
     ]
    }
   ],
   "source": [
    "columns = [\"temp\",'diff','iqr','slope']\n",
    "X1= df1[columns].values\n",
    "Y = df1[['label']].values\n",
    "model1 = linear_model.LogisticRegression(penalty = 'none',solver = 'saga', class_weight = 'balanced', max_iter=1000)\n",
    "model1.fit(X1,Y)\n",
    "print(model1.score(X1,Y))\n",
    "print (model1.coef_,model1.intercept_)\n",
    "df1['Logistic07'] = model1.predict_proba(X1)[:,1]"
   ]
  },
  {
   "cell_type": "code",
   "execution_count": 209,
   "metadata": {},
   "outputs": [
    {
     "data": {
      "text/html": [
       "<iframe src=\"./html/Temp_Label_Logistic_07_1.html\" width=\"900px\" height=\"400px\" frameborder=\"0\" scrolling=\"no\"> </iframe>"
      ],
      "text/plain": [
       "<IPython.core.display.HTML object>"
      ]
     },
     "execution_count": 209,
     "metadata": {},
     "output_type": "execute_result"
    }
   ],
   "source": [
    "me.Plot_LineBar(df1,columns = ['TE_1003','Logistic06','Logistic07','label','rate', 'PT_4001'],\\\n",
    "                name=\"Temp_Label_Logistic_07_1\",overwrite=True)"
   ]
  },
  {
   "cell_type": "code",
   "execution_count": 211,
   "metadata": {},
   "outputs": [],
   "source": [
    "## 固定模型参数\n",
    "# def model3(df):\n",
    "#     coef1 = pd.Series([49.00144768,3.57137631,-2.50972846, 3.1088844 ],index = [\"temp\",'diff','iqr','slope'])\n",
    "#     coef2 = pd.Series([29.1605033,2.00337356,-1.28089264,  -2.10215003 ],index = [\"temp\",'diff','iqr','slope'])\n",
    "#     coef = (coef1+coef2)/2.0\n",
    "#     intercept_= (-23.27433937-15.72830235)/2.0\n",
    "#     res = ((df[[\"temp\",'diff','iqr','slope']]*coef).sum(axis=1)+intercept_)\n",
    "#     res1 =res.map(lambda x:pow(math.e,x))\n",
    "#     res2 = res1/(1+res1)\n",
    "#     return res2.values"
   ]
  },
  {
   "cell_type": "code",
   "execution_count": null,
   "metadata": {},
   "outputs": [],
   "source": []
  }
 ],
 "metadata": {
  "kernelspec": {
   "display_name": "Python 3",
   "language": "python",
   "name": "python3"
  },
  "language_info": {
   "codemirror_mode": {
    "name": "ipython",
    "version": 3
   },
   "file_extension": ".py",
   "mimetype": "text/x-python",
   "name": "python",
   "nbconvert_exporter": "python",
   "pygments_lexer": "ipython3",
   "version": "3.7.0"
  }
 },
 "nbformat": 4,
 "nbformat_minor": 2
}
