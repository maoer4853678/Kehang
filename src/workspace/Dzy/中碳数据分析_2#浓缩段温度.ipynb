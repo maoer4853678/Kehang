{
 "cells": [
  {
   "cell_type": "code",
   "execution_count": 2,
   "metadata": {},
   "outputs": [
    {
     "data": {
      "text/plain": [
       "<module 'Khcore1' from '/home/khpython/Root/tool/Khcore1.py'>"
      ]
     },
     "execution_count": 2,
     "metadata": {},
     "output_type": "execute_result"
    }
   ],
   "source": [
    "import sys\n",
    "%store -r SYSPATHS\n",
    "sys.path.append(SYSPATHS['tool'])\n",
    "import Khcore as kc\n",
    "import Khcore1 as kc1\n",
    "import MyEcharts as me\n",
    "import matplotlib.pyplot as plt\n",
    "import pandas as pd\n",
    "import numpy as np\n",
    "import os\n",
    "from imp import reload\n",
    "\n",
    "reload(kc)\n",
    "reload(kc1)"
   ]
  },
  {
   "cell_type": "markdown",
   "metadata": {},
   "source": [
    "## 浓缩段温度异常工况故障树梳理"
   ]
  },
  {
   "cell_type": "markdown",
   "metadata": {},
   "source": [
    "<table>\n",
    "\t<tr>\n",
    "    <th>异常工况</th>\n",
    "    <th>故障现象</th>\n",
    "    <th>故障一级原因</th>\n",
    "    <th>故障二级原因</th>\n",
    "    <th>备注</th>\n",
    "   </tr>\n",
    "\n",
    "  <tr>\n",
    "    <td rowspan=\"7\" valign=\"middle\" align=\"middle\">浓缩段温度超标</td>\n",
    "    <td rowspan=\"7\" valign=\"middle\" align=\"middle\">浓缩段温度升高</td>\n",
    "   </tr>\n",
    "   \n",
    "  <tr>\n",
    "    <td valign=\"middle\" align=\"middle\">入口负荷增加</td>\n",
    "    <td valign=\"middle\" align=\"middle\">原烟气温度升高</td>\n",
    "    <td valign=\"middle\" align=\"middle\">对应测点 原烟气温度</td>\n",
    "   <tr>\n",
    "       \n",
    "   <tr>\n",
    "    <td valign=\"middle\" align=\"middle\">处于两个浓缩泵切换过程</td>\n",
    "    <td> </td>\n",
    "    <td valign=\"middle\" align=\"middle\">对应测点 浓缩泵A电流<br>浓缩泵B电流</td>\n",
    "   </tr>\n",
    "   \n",
    "   <tr>\n",
    "    <td valign=\"middle\" align=\"middle\">脱硫塔固含量升高</td>\n",
    "    <td valign=\"middle\" align=\"middle\">处于出料期间</td>\n",
    "    <td valign=\"middle\" align=\"middle\">对应测点 蒸汽母管流量<br>\n",
    "塔底浆液液位<br>\n",
    "固含量可以通过检测化验方式获取</td>\n",
    "   </tr>\n",
    "   \n",
    "   <tr>\n",
    "    <td valign=\"middle\" align=\"middle\">入口烟气含高温水</td>\n",
    "    <td valign=\"middle\" align=\"middle\">锅炉爆管导致</td>\n",
    "    <td valign=\"middle\" align=\"middle\">对应锅炉段测点</td>\n",
    "   </tr>\n",
    "</table>"
   ]
  },
  {
   "cell_type": "code",
   "execution_count": null,
   "metadata": {},
   "outputs": [],
   "source": []
  },
  {
   "cell_type": "markdown",
   "metadata": {},
   "source": [
    "# 6月份数据训练"
   ]
  },
  {
   "cell_type": "markdown",
   "metadata": {},
   "source": [
    "### 2#浓缩段温度A,B,C 原始数据 时序图"
   ]
  },
  {
   "cell_type": "code",
   "execution_count": 13,
   "metadata": {
    "scrolled": false
   },
   "outputs": [
    {
     "data": {
      "text/html": [
       "<iframe src=\"./html/TSIA-1204_06_raw.html\" width=\"900px\" height=\"400px\" frameborder=\"0\" scrolling=\"no\"> </iframe>"
      ],
      "text/plain": [
       "<IPython.core.display.HTML object>"
      ]
     },
     "execution_count": 13,
     "metadata": {},
     "output_type": "execute_result"
    }
   ],
   "source": [
    "names = [\"TSIA-1204A\",\"TSIA-1204B\",\"TSIA-1204C\"]\n",
    "datas=  []\n",
    "for name in names:\n",
    "    datas.append(kc1.ReadRawData(name))\n",
    "data = pd.concat(datas,axis=1)\n",
    "data= data[data.index>\"2019-06-13 19:00:00\"]   ## 2019-06-13 19:00:00 之前属于数据测点调试阶段\n",
    "data.columns = names\n",
    "data1 = data.resample(\"1min\").mean()\n",
    "me.Plot_LineBar(data1,name=\"TSIA-1204_06_raw\",overwrite=True)"
   ]
  },
  {
   "cell_type": "code",
   "execution_count": null,
   "metadata": {},
   "outputs": [],
   "source": []
  },
  {
   "cell_type": "markdown",
   "metadata": {},
   "source": [
    "### 根据浓缩段温度时序图 对数据打标签\n",
    "    浓缩段温度A 传感器对温度敏感, 其变化幅度较大的区域或者 温度绝对值较高的 区域认为是 浓缩段温度异常区域"
   ]
  },
  {
   "cell_type": "code",
   "execution_count": 4,
   "metadata": {},
   "outputs": [],
   "source": [
    "bins = [[\"2019-06-14 13:20:00\",\"2019-06-14 17:28:00\"],[\"2019-06-16 05:05:00\",\"2019-06-16 15:40:00\"],\n",
    "       [\"2019-06-17 05:00:00\",\"2019-06-17 17:31:00\"],[\"2019-06-18 11:08:00\",\"2019-06-18 17:36:00\"],\\\n",
    "       [\"2019-06-22 07:21:00\",\"2019-06-22 15:51:00\"],[\"2019-06-23 08:30:00\",\"2019-06-23 17:00:00\"],\\\n",
    "        [\"2019-06-24 23:40:00\",\"2019-06-25 03:34:00\"],[\"2019-06-25 23:30:00\",\"2019-06-26 00:35:00\"],\\\n",
    "        [\"2019-06-27 06:55:00\",\"2019-06-27 07:57:00\"],[\"2019-06-27 13:32:00\",\"2019-06-28 04:19:00\"],\\\n",
    "        [\"2019-06-28 15:12:00\",\"2019-06-29 06:35:00\"],[\"2019-06-30 02:31:00\",\"2019-06-30 07:30:00\"],\\\n",
    "       ]\n",
    "labels = [1]*len(bins)"
   ]
  },
  {
   "cell_type": "markdown",
   "metadata": {},
   "source": [
    "### 设置计算步进为 1min, 即在线系统一分钟触发一次计算\n",
    "    data1 即为 历史数据data 的 1min降采样数据, 即以此数据作为训练数据，打数据标签\n",
    "    数据窗口长度为 5min"
   ]
  },
  {
   "cell_type": "code",
   "execution_count": 7,
   "metadata": {},
   "outputs": [],
   "source": [
    "step = \"1min\" \n",
    "window =\"5min\"\n",
    "data2 = kc1.generate_label(data1,bins,labels)\n",
    "data2['label'] =data2['label'].fillna(0)"
   ]
  },
  {
   "cell_type": "markdown",
   "metadata": {},
   "source": [
    "### 加工特征：\n",
    "    1. 当前时刻平均温度 : 浓缩段温度A,B,C 去掉最大值, 剩余两个温度的均值\n",
    "    2. 当前时刻温度差: 浓缩段温度A,B,C 的最大值减去平均温度\n",
    "    3. 当前时刻向前滑动窗口下的平均温度斜率 : 滑动窗口取 5min , 即前5个平均温度的拟合斜率"
   ]
  },
  {
   "cell_type": "code",
   "execution_count": 8,
   "metadata": {},
   "outputs": [
    {
     "name": "stderr",
     "output_type": "stream",
     "text": [
      "/root/anaconda3/lib/python3.7/site-packages/ipykernel_launcher.py:11: FutureWarning: Currently, 'apply' passes the values as ndarrays to the applied function. In the future, this will change to passing it as Series objects. You need to specify 'raw=True' to keep the current behaviour, and you can pass 'raw=False' to silence this warning\n",
      "  # This is added back by InteractiveShellApp.init_path()\n"
     ]
    }
   ],
   "source": [
    "## 1. 浓缩段平均温度变量\n",
    "df = kc1.ReadRawData(\"TE_1003\")  ## 根据 kc1.GenerateAvgTemp 计算的 平均温度\n",
    "df1 = df[df.index>\"2019-06-13 19:00:00\"]\n",
    "data2[\"TE_1003\"] = df1['value']\n",
    "data2= data2.dropna()\n",
    "\n",
    "## 2. 温度峰峰值\n",
    "data2['diff'] = data2[['TE_1003a','TE_1003b','TE_1003c']].max(axis=1)-data2['TE_1003']\n",
    "\n",
    "## 3. 温度斜率\n",
    "data2[\"slope\"] = data2['TE_1003'].rolling(window=window).apply(kc1.gradient)\n",
    "data2= data2.dropna()"
   ]
  },
  {
   "cell_type": "code",
   "execution_count": 11,
   "metadata": {},
   "outputs": [
    {
     "data": {
      "text/html": [
       "<div>\n",
       "<style scoped>\n",
       "    .dataframe tbody tr th:only-of-type {\n",
       "        vertical-align: middle;\n",
       "    }\n",
       "\n",
       "    .dataframe tbody tr th {\n",
       "        vertical-align: top;\n",
       "    }\n",
       "\n",
       "    .dataframe thead th {\n",
       "        text-align: right;\n",
       "    }\n",
       "</style>\n",
       "<table border=\"1\" class=\"dataframe\">\n",
       "  <thead>\n",
       "    <tr style=\"text-align: right;\">\n",
       "      <th></th>\n",
       "      <th>TE_1003a</th>\n",
       "      <th>TE_1003b</th>\n",
       "      <th>TE_1003c</th>\n",
       "      <th>label</th>\n",
       "      <th>TE_1003</th>\n",
       "      <th>diff</th>\n",
       "      <th>slope</th>\n",
       "    </tr>\n",
       "    <tr>\n",
       "      <th>time</th>\n",
       "      <th></th>\n",
       "      <th></th>\n",
       "      <th></th>\n",
       "      <th></th>\n",
       "      <th></th>\n",
       "      <th></th>\n",
       "      <th></th>\n",
       "    </tr>\n",
       "  </thead>\n",
       "  <tbody>\n",
       "    <tr>\n",
       "      <th>2019-06-13 19:01:00</th>\n",
       "      <td>61.558003</td>\n",
       "      <td>59.875460</td>\n",
       "      <td>59.851057</td>\n",
       "      <td>0.0</td>\n",
       "      <td>58.38830</td>\n",
       "      <td>3.169703</td>\n",
       "      <td>0.000000</td>\n",
       "    </tr>\n",
       "    <tr>\n",
       "      <th>2019-06-13 19:02:00</th>\n",
       "      <td>61.684993</td>\n",
       "      <td>59.822970</td>\n",
       "      <td>59.844953</td>\n",
       "      <td>0.0</td>\n",
       "      <td>57.91216</td>\n",
       "      <td>3.772833</td>\n",
       "      <td>-0.476140</td>\n",
       "    </tr>\n",
       "    <tr>\n",
       "      <th>2019-06-13 19:03:00</th>\n",
       "      <td>61.789990</td>\n",
       "      <td>59.888887</td>\n",
       "      <td>59.896207</td>\n",
       "      <td>0.0</td>\n",
       "      <td>57.99264</td>\n",
       "      <td>3.797350</td>\n",
       "      <td>-0.197830</td>\n",
       "    </tr>\n",
       "    <tr>\n",
       "      <th>2019-06-13 19:04:00</th>\n",
       "      <td>61.796087</td>\n",
       "      <td>59.901080</td>\n",
       "      <td>59.914513</td>\n",
       "      <td>0.0</td>\n",
       "      <td>58.08054</td>\n",
       "      <td>3.715547</td>\n",
       "      <td>-0.084280</td>\n",
       "    </tr>\n",
       "    <tr>\n",
       "      <th>2019-06-13 19:05:00</th>\n",
       "      <td>61.678883</td>\n",
       "      <td>59.672787</td>\n",
       "      <td>59.102577</td>\n",
       "      <td>0.0</td>\n",
       "      <td>57.88282</td>\n",
       "      <td>3.796063</td>\n",
       "      <td>-0.084258</td>\n",
       "    </tr>\n",
       "  </tbody>\n",
       "</table>\n",
       "</div>"
      ],
      "text/plain": [
       "                      TE_1003a   TE_1003b   TE_1003c  label   TE_1003  \\\n",
       "time                                                                    \n",
       "2019-06-13 19:01:00  61.558003  59.875460  59.851057    0.0  58.38830   \n",
       "2019-06-13 19:02:00  61.684993  59.822970  59.844953    0.0  57.91216   \n",
       "2019-06-13 19:03:00  61.789990  59.888887  59.896207    0.0  57.99264   \n",
       "2019-06-13 19:04:00  61.796087  59.901080  59.914513    0.0  58.08054   \n",
       "2019-06-13 19:05:00  61.678883  59.672787  59.102577    0.0  57.88282   \n",
       "\n",
       "                         diff     slope  \n",
       "time                                     \n",
       "2019-06-13 19:01:00  3.169703  0.000000  \n",
       "2019-06-13 19:02:00  3.772833 -0.476140  \n",
       "2019-06-13 19:03:00  3.797350 -0.197830  \n",
       "2019-06-13 19:04:00  3.715547 -0.084280  \n",
       "2019-06-13 19:05:00  3.796063 -0.084258  "
      ]
     },
     "execution_count": 11,
     "metadata": {},
     "output_type": "execute_result"
    }
   ],
   "source": [
    "data2.head()"
   ]
  },
  {
   "cell_type": "markdown",
   "metadata": {},
   "source": [
    "### 特征数据标准化"
   ]
  },
  {
   "cell_type": "code",
   "execution_count": 12,
   "metadata": {},
   "outputs": [
    {
     "data": {
      "text/html": [
       "<div>\n",
       "<style scoped>\n",
       "    .dataframe tbody tr th:only-of-type {\n",
       "        vertical-align: middle;\n",
       "    }\n",
       "\n",
       "    .dataframe tbody tr th {\n",
       "        vertical-align: top;\n",
       "    }\n",
       "\n",
       "    .dataframe thead th {\n",
       "        text-align: right;\n",
       "    }\n",
       "</style>\n",
       "<table border=\"1\" class=\"dataframe\">\n",
       "  <thead>\n",
       "    <tr style=\"text-align: right;\">\n",
       "      <th></th>\n",
       "      <th>TE_1003</th>\n",
       "      <th>diff</th>\n",
       "      <th>slope</th>\n",
       "    </tr>\n",
       "    <tr>\n",
       "      <th>time</th>\n",
       "      <th></th>\n",
       "      <th></th>\n",
       "      <th></th>\n",
       "    </tr>\n",
       "  </thead>\n",
       "  <tbody>\n",
       "    <tr>\n",
       "      <th>2019-06-13 19:01:00</th>\n",
       "      <td>0.003843</td>\n",
       "      <td>0.753110</td>\n",
       "      <td>-0.000131</td>\n",
       "    </tr>\n",
       "    <tr>\n",
       "      <th>2019-06-13 19:02:00</th>\n",
       "      <td>-0.187747</td>\n",
       "      <td>1.079130</td>\n",
       "      <td>-1.393231</td>\n",
       "    </tr>\n",
       "    <tr>\n",
       "      <th>2019-06-13 19:03:00</th>\n",
       "      <td>-0.155363</td>\n",
       "      <td>1.092382</td>\n",
       "      <td>-0.578946</td>\n",
       "    </tr>\n",
       "    <tr>\n",
       "      <th>2019-06-13 19:04:00</th>\n",
       "      <td>-0.119994</td>\n",
       "      <td>1.048164</td>\n",
       "      <td>-0.246719</td>\n",
       "    </tr>\n",
       "    <tr>\n",
       "      <th>2019-06-13 19:05:00</th>\n",
       "      <td>-0.199553</td>\n",
       "      <td>1.091687</td>\n",
       "      <td>-0.246654</td>\n",
       "    </tr>\n",
       "  </tbody>\n",
       "</table>\n",
       "</div>"
      ],
      "text/plain": [
       "                      TE_1003      diff     slope\n",
       "time                                             \n",
       "2019-06-13 19:01:00  0.003843  0.753110 -0.000131\n",
       "2019-06-13 19:02:00 -0.187747  1.079130 -1.393231\n",
       "2019-06-13 19:03:00 -0.155363  1.092382 -0.578946\n",
       "2019-06-13 19:04:00 -0.119994  1.048164 -0.246719\n",
       "2019-06-13 19:05:00 -0.199553  1.091687 -0.246654"
      ]
     },
     "execution_count": 12,
     "metadata": {},
     "output_type": "execute_result"
    }
   ],
   "source": [
    "from sklearn.preprocessing import StandardScaler\n",
    "from sklearn.preprocessing import MinMaxScaler\n",
    "\n",
    "X= data2[['TE_1003','diff','slope']]\n",
    "Y = data2['label']\n",
    "ss = StandardScaler() ## 数据标准化\n",
    "ss.fit(X)\n",
    "X1 = ss.transform(X)\n",
    "pd.DataFrame(X1,columns = ['TE_1003','diff','slope'],index=X.index).head() ## 标准化数据"
   ]
  },
  {
   "cell_type": "markdown",
   "metadata": {},
   "source": [
    "### 模型训练 - Lasso"
   ]
  },
  {
   "cell_type": "code",
   "execution_count": 42,
   "metadata": {},
   "outputs": [
    {
     "name": "stdout",
     "output_type": "stream",
     "text": [
      "[ 0.1242725   0.16926137 -0.        ]\n"
     ]
    },
    {
     "data": {
      "text/html": [
       "<iframe src=\"./html/TE_1003_06_Lasso.html\" width=\"900px\" height=\"400px\" frameborder=\"0\" scrolling=\"no\"> </iframe>"
      ],
      "text/plain": [
       "<IPython.core.display.HTML object>"
      ]
     },
     "execution_count": 42,
     "metadata": {},
     "output_type": "execute_result"
    }
   ],
   "source": [
    "## 采用 Lasso 的回归模型\n",
    "from sklearn import linear_model\n",
    "model = linear_model.Lasso(alpha=0.05) \n",
    "model.fit(X1,Y)\n",
    "print (model.coef_)\n",
    "data2['Lasso'] = model.predict(X1)\n",
    "me.Plot_LineBar(data2,columns=['label','Lasso'],name=\"TE_1003_06_Lasso\",overwrite=True)\n",
    "### slope 含有 连续时序特征, 可根据Lasso 预测值 作为报警概率设定值, 默认为0.5"
   ]
  },
  {
   "cell_type": "code",
   "execution_count": 43,
   "metadata": {},
   "outputs": [
    {
     "name": "stdout",
     "output_type": "stream",
     "text": [
      "[ 0.18757425  0.2297963  -0.00737022]\n"
     ]
    },
    {
     "data": {
      "text/html": [
       "<iframe src=\"./html/TE_1003_06_Linear.html\" width=\"900px\" height=\"400px\" frameborder=\"0\" scrolling=\"no\"> </iframe>"
      ],
      "text/plain": [
       "<IPython.core.display.HTML object>"
      ]
     },
     "execution_count": 43,
     "metadata": {},
     "output_type": "execute_result"
    }
   ],
   "source": [
    "## 采用 LinearRegression 的回归模型\n",
    "from sklearn import linear_model\n",
    "model1 = linear_model.LinearRegression()\n",
    "model1.fit(X1,Y)\n",
    "print (model1.coef_)\n",
    "data2['Linear'] = model1.predict(X1)\n",
    "me.Plot_LineBar(data2,columns=['label','Linear'],name=\"TE_1003_06_Linear\",overwrite=True)"
   ]
  },
  {
   "cell_type": "markdown",
   "metadata": {},
   "source": [
    "### 两模型及原始数据对比"
   ]
  },
  {
   "cell_type": "code",
   "execution_count": 51,
   "metadata": {},
   "outputs": [
    {
     "data": {
      "text/html": [
       "<iframe src=\"./html/TE_1003_06_predict.html\" width=\"900px\" height=\"400px\" frameborder=\"0\" scrolling=\"no\"> </iframe>"
      ],
      "text/plain": [
       "<IPython.core.display.HTML object>"
      ]
     },
     "execution_count": 51,
     "metadata": {},
     "output_type": "execute_result"
    }
   ],
   "source": [
    "data2['TE_1003_scale'] = X1[:,0]\n",
    "me.Plot_LineBar(data2,columns=['TE_1003_scale','label','Lasso','Linear'],\\\n",
    "                name=\"TE_1003_06_predict\",overwrite=True)"
   ]
  },
  {
   "cell_type": "code",
   "execution_count": null,
   "metadata": {},
   "outputs": [],
   "source": []
  },
  {
   "cell_type": "code",
   "execution_count": null,
   "metadata": {},
   "outputs": [],
   "source": []
  },
  {
   "cell_type": "markdown",
   "metadata": {},
   "source": [
    "# 7月份数据测试"
   ]
  },
  {
   "cell_type": "markdown",
   "metadata": {},
   "source": [
    "### 加载原始数据"
   ]
  },
  {
   "cell_type": "code",
   "execution_count": 14,
   "metadata": {},
   "outputs": [
    {
     "data": {
      "text/html": [
       "<iframe src=\"./html/TSIA-1204_07_raw.html\" width=\"900px\" height=\"400px\" frameborder=\"0\" scrolling=\"no\"> </iframe>"
      ],
      "text/plain": [
       "<IPython.core.display.HTML object>"
      ]
     },
     "execution_count": 14,
     "metadata": {},
     "output_type": "execute_result"
    }
   ],
   "source": [
    "names = [\"TSIA-1204A\",\"TSIA-1204B\",\"TSIA-1204C\"]\n",
    "datas=  []\n",
    "for name in names:\n",
    "    datas.append(kc1.ReadRawData(name,month=\"2019_07\"))\n",
    "data07 = pd.concat(datas,axis=1)\n",
    "data07.columns = names\n",
    "data1_07 = data07.resample(\"1min\").mean()\n",
    "me.Plot_LineBar(data1_07,name=\"TSIA-1204_07_raw\",overwrite=True)"
   ]
  },
  {
   "cell_type": "markdown",
   "metadata": {},
   "source": [
    "### 加工数据特征"
   ]
  },
  {
   "cell_type": "code",
   "execution_count": 39,
   "metadata": {},
   "outputs": [
    {
     "name": "stderr",
     "output_type": "stream",
     "text": [
      "/root/anaconda3/lib/python3.7/site-packages/ipykernel_launcher.py:11: FutureWarning: Currently, 'apply' passes the values as ndarrays to the applied function. In the future, this will change to passing it as Series objects. You need to specify 'raw=True' to keep the current behaviour, and you can pass 'raw=False' to silence this warning\n",
      "  # This is added back by InteractiveShellApp.init_path()\n"
     ]
    }
   ],
   "source": [
    "## 1. 浓缩段平均温度变量\n",
    "# df_07=kc1.GenerateAvgTemp([\"TE_1003a\",\"TE_1003b\",\"TE_1003c\"],month=\"2019_07\")\n",
    "df_07 = kc1.ReadRawData(\"TE_1003\",month=\"2019_07\")\n",
    "data1_07[\"TE_1003\"] = df_07['value']\n",
    "data1_07= data1_07.dropna()\n",
    "\n",
    "## 2. 温度峰峰值\n",
    "data1_07['diff'] = data1_07[['TE_1003a','TE_1003b','TE_1003c']].max(axis=1)-data1_07['TE_1003']\n",
    "\n",
    "## 3. 温度斜率\n",
    "data1_07[\"slope\"] = data1_07['TE_1003'].rolling(window=window).apply(kc1.gradient)\n",
    "data1_07= data1_07.dropna()"
   ]
  },
  {
   "cell_type": "code",
   "execution_count": 40,
   "metadata": {},
   "outputs": [
    {
     "data": {
      "text/html": [
       "<div>\n",
       "<style scoped>\n",
       "    .dataframe tbody tr th:only-of-type {\n",
       "        vertical-align: middle;\n",
       "    }\n",
       "\n",
       "    .dataframe tbody tr th {\n",
       "        vertical-align: top;\n",
       "    }\n",
       "\n",
       "    .dataframe thead th {\n",
       "        text-align: right;\n",
       "    }\n",
       "</style>\n",
       "<table border=\"1\" class=\"dataframe\">\n",
       "  <thead>\n",
       "    <tr style=\"text-align: right;\">\n",
       "      <th></th>\n",
       "      <th>TE_1003a</th>\n",
       "      <th>TE_1003b</th>\n",
       "      <th>TE_1003c</th>\n",
       "      <th>TE_1003</th>\n",
       "      <th>diff</th>\n",
       "      <th>slope</th>\n",
       "    </tr>\n",
       "    <tr>\n",
       "      <th>time</th>\n",
       "      <th></th>\n",
       "      <th></th>\n",
       "      <th></th>\n",
       "      <th></th>\n",
       "      <th></th>\n",
       "      <th></th>\n",
       "    </tr>\n",
       "  </thead>\n",
       "  <tbody>\n",
       "    <tr>\n",
       "      <th>2019-07-01 00:00:00</th>\n",
       "      <td>60.357757</td>\n",
       "      <td>60.599510</td>\n",
       "      <td>60.175827</td>\n",
       "      <td>59.83144</td>\n",
       "      <td>0.768070</td>\n",
       "      <td>0.000000</td>\n",
       "    </tr>\n",
       "    <tr>\n",
       "      <th>2019-07-01 00:01:00</th>\n",
       "      <td>60.622693</td>\n",
       "      <td>60.810750</td>\n",
       "      <td>60.496937</td>\n",
       "      <td>60.19046</td>\n",
       "      <td>0.620290</td>\n",
       "      <td>0.359020</td>\n",
       "    </tr>\n",
       "    <tr>\n",
       "      <th>2019-07-01 00:02:00</th>\n",
       "      <td>60.914530</td>\n",
       "      <td>60.923087</td>\n",
       "      <td>60.517693</td>\n",
       "      <td>60.34432</td>\n",
       "      <td>0.578767</td>\n",
       "      <td>0.256440</td>\n",
       "    </tr>\n",
       "    <tr>\n",
       "      <th>2019-07-01 00:03:00</th>\n",
       "      <td>61.050080</td>\n",
       "      <td>60.970697</td>\n",
       "      <td>60.705730</td>\n",
       "      <td>60.64466</td>\n",
       "      <td>0.405420</td>\n",
       "      <td>0.259352</td>\n",
       "    </tr>\n",
       "    <tr>\n",
       "      <th>2019-07-01 00:04:00</th>\n",
       "      <td>61.148950</td>\n",
       "      <td>61.081793</td>\n",
       "      <td>60.802213</td>\n",
       "      <td>60.74722</td>\n",
       "      <td>0.401730</td>\n",
       "      <td>0.228576</td>\n",
       "    </tr>\n",
       "  </tbody>\n",
       "</table>\n",
       "</div>"
      ],
      "text/plain": [
       "                      TE_1003a   TE_1003b   TE_1003c   TE_1003      diff  \\\n",
       "time                                                                       \n",
       "2019-07-01 00:00:00  60.357757  60.599510  60.175827  59.83144  0.768070   \n",
       "2019-07-01 00:01:00  60.622693  60.810750  60.496937  60.19046  0.620290   \n",
       "2019-07-01 00:02:00  60.914530  60.923087  60.517693  60.34432  0.578767   \n",
       "2019-07-01 00:03:00  61.050080  60.970697  60.705730  60.64466  0.405420   \n",
       "2019-07-01 00:04:00  61.148950  61.081793  60.802213  60.74722  0.401730   \n",
       "\n",
       "                        slope  \n",
       "time                           \n",
       "2019-07-01 00:00:00  0.000000  \n",
       "2019-07-01 00:01:00  0.359020  \n",
       "2019-07-01 00:02:00  0.256440  \n",
       "2019-07-01 00:03:00  0.259352  \n",
       "2019-07-01 00:04:00  0.228576  "
      ]
     },
     "execution_count": 40,
     "metadata": {},
     "output_type": "execute_result"
    }
   ],
   "source": [
    "data1_07.head()"
   ]
  },
  {
   "cell_type": "code",
   "execution_count": 41,
   "metadata": {},
   "outputs": [],
   "source": [
    "X_07= data1_07[['TE_1003','diff','slope']]\n",
    "X1_07 = ss.transform(X_07)"
   ]
  },
  {
   "cell_type": "markdown",
   "metadata": {},
   "source": [
    "### 模型效果验证"
   ]
  },
  {
   "cell_type": "code",
   "execution_count": 50,
   "metadata": {},
   "outputs": [
    {
     "data": {
      "text/html": [
       "<iframe src=\"./html/TE_1003_07_predict.html\" width=\"900px\" height=\"400px\" frameborder=\"0\" scrolling=\"no\"> </iframe>"
      ],
      "text/plain": [
       "<IPython.core.display.HTML object>"
      ]
     },
     "execution_count": 50,
     "metadata": {},
     "output_type": "execute_result"
    }
   ],
   "source": [
    "data1_07['Lasso'] = model.predict(X1_07)\n",
    "data1_07['Linear'] = model1.predict(X1_07)\n",
    "data1_07['TE_1003_scale'] = X1_07[:,0]\n",
    "me.Plot_LineBar(data1_07,columns=['TE_1003_scale','Lasso','Linear'],\\\n",
    "                name=\"TE_1003_07_predict\",overwrite=True)"
   ]
  },
  {
   "cell_type": "code",
   "execution_count": null,
   "metadata": {},
   "outputs": [],
   "source": []
  }
 ],
 "metadata": {
  "kernelspec": {
   "display_name": "Python 3",
   "language": "python",
   "name": "python3"
  },
  "language_info": {
   "codemirror_mode": {
    "name": "ipython",
    "version": 3
   },
   "file_extension": ".py",
   "mimetype": "text/x-python",
   "name": "python",
   "nbconvert_exporter": "python",
   "pygments_lexer": "ipython3",
   "version": "3.7.0"
  }
 },
 "nbformat": 4,
 "nbformat_minor": 2
}
