{
 "cells": [
  {
   "cell_type": "code",
   "execution_count": 1,
   "metadata": {},
   "outputs": [
    {
     "data": {
      "text/plain": [
       "<module 'Khfeature' from '../../../tool\\\\Khfeature.py'>"
      ]
     },
     "execution_count": 1,
     "metadata": {},
     "output_type": "execute_result"
    }
   ],
   "source": [
    "import sys\n",
    "# %store -r SYSPATHS\n",
    "SYSPATHS = {\"tool\":\"../../../tool\"}\n",
    "sys.path.append(SYSPATHS['tool'])\n",
    "import Khfeature as kf\n",
    "import Khcore1 as kc1\n",
    "from imp import reload\n",
    "import MyEcharts as me\n",
    "import pandas as pd\n",
    "import numpy as np\n",
    "import pylab as pl\n",
    "import seaborn as sns\n",
    "import os\n",
    "from sklearn.preprocessing import MinMaxScaler,StandardScaler\n",
    "from sklearn import linear_model\n",
    "import pickle\n",
    "\n",
    "reload(kc1)\n",
    "reload(kf)"
   ]
  },
  {
   "cell_type": "code",
   "execution_count": 357,
   "metadata": {},
   "outputs": [],
   "source": [
    "step = \"1min\"  ## 计算步进间隔\n",
    "## 选用三个 不同的时间尺度\n",
    "temp_window = \"15min\"  ## 平均温度计算窗口: 平均温度的窗口尽量小, 体现其短时作用, 可以快速结束报警, 尺度也不能太短, 防止label毛刺 \n",
    "roll_window = '2H'  ## 滑动计算窗口: 滑动窗口用于计算Q1,Q3,IQR 和 diff, 滑动窗口下的统计量, 时间可以稍微长点\n",
    "slope_window = \"3H\"  ## 斜率计算窗口: 滑动温度斜率窗口, 因为温度存在小范围周期波动, 所以需要将时间窗口放大\n",
    "th = 61.5  ## 报警温度阈值\n",
    "rate = 0.55  ## 报警概率阈值"
   ]
  },
  {
   "cell_type": "markdown",
   "metadata": {},
   "source": [
    "## 一、获取原始数据"
   ]
  },
  {
   "cell_type": "code",
   "execution_count": 358,
   "metadata": {},
   "outputs": [],
   "source": [
    "### 1. 获取原始数据\n",
    "names = [\"TE_1003a\",\"TE_1003b\",\"TE_1003c\"]\n",
    "datas=  []\n",
    "for name in names:\n",
    "    datas.append(kc1.ReadRawData(name))\n",
    "data = pd.concat(datas,axis=1)\n",
    "data.columns = names\n",
    "data['PT_4001'] = kc1.ReadRawData(\"PT_4001\",month=\"2019_06\",factory=\"中碳能源\")\n",
    "data['TE_1003'] = kc1.ReadRawData(\"TE_1003\",column='value', factory='中碳能源', month='2019_06')\n",
    "data= data[data.index>\"2019-06-13 19:00:00\"]   ## 2019-06-13 19:00:00 之前属于数据测点调试阶段\n",
    "data = data.resample(step).mean()"
   ]
  },
  {
   "cell_type": "markdown",
   "metadata": {},
   "source": [
    "## 二、自动打标签\n",
    "    根据浓缩段平均温度 生成label"
   ]
  },
  {
   "cell_type": "code",
   "execution_count": 370,
   "metadata": {},
   "outputs": [
    {
     "name": "stdout",
     "output_type": "stream",
     "text": [
      "save image as label_auto\n",
      "add label successful \n"
     ]
    },
    {
     "name": "stderr",
     "output_type": "stream",
     "text": [
      "../../../tool/Khfeature.py:118: SettingWithCopyWarning: \n",
      "A value is trying to be set on a copy of a slice from a DataFrame.\n",
      "Try using .loc[row_indexer,col_indexer] = value instead\n",
      "\n",
      "See the caveats in the documentation: http://pandas.pydata.org/pandas-docs/stable/indexing.html#indexing-view-versus-copy\n",
      "  t['diff']= ((pd.Series(t.index).diff().dt.total_seconds()).values/S)\n",
      "../../../tool/Khfeature.py:119: SettingWithCopyWarning: \n",
      "A value is trying to be set on a copy of a slice from a DataFrame.\n",
      "Try using .loc[row_indexer,col_indexer] = value instead\n",
      "\n",
      "See the caveats in the documentation: http://pandas.pydata.org/pandas-docs/stable/indexing.html#indexing-view-versus-copy\n",
      "  t['diff']= t['diff'].fillna(100)\n"
     ]
    }
   ],
   "source": [
    "s2 = kf.SingleTsFeature(data['TE_1003'])\n",
    "s2.add_label(th=th,left_window = '60min',right_window=\"1min\",merge_window=\"20min\",filename=\"label_auto\")\n",
    "label = s2.GetDf()[['label']]"
   ]
  },
  {
   "cell_type": "markdown",
   "metadata": {},
   "source": [
    "##### 查看自动标签效果"
   ]
  },
  {
   "cell_type": "code",
   "execution_count": 360,
   "metadata": {},
   "outputs": [
    {
     "data": {
      "text/html": [
       "<iframe src=\"./html/Temp_raw_label_06.html\" width=\"900px\" height=\"400px\" frameborder=\"0\" scrolling=\"no\"> </iframe>"
      ],
      "text/plain": [
       "<IPython.core.display.HTML object>"
      ]
     },
     "execution_count": 360,
     "metadata": {},
     "output_type": "execute_result"
    }
   ],
   "source": [
    "temp = pd.concat([data,label],axis=1)\n",
    "temp['label'] = temp['label']*70\n",
    "temp['PT_4001'] = temp['PT_4001']*100\n",
    "me.Plot_LineBar(temp,name='Temp_raw_label_06',overwrite=True)"
   ]
  },
  {
   "cell_type": "markdown",
   "metadata": {},
   "source": [
    "## 三、特征加工"
   ]
  },
  {
   "cell_type": "markdown",
   "metadata": {},
   "source": [
    "### 1. 浓缩温度 temp : temp_window 下的 平均温度最大值\n",
    "### 2. 浓缩温度 diff ： roll_window 下的 温度差值均值\n",
    "### 3. 浓缩温度 iqr ：roll_window 下的 平均温度IQR\n",
    "### 4. 浓缩温度 slope ：slope_window 下的 拟合斜率"
   ]
  },
  {
   "cell_type": "markdown",
   "metadata": {},
   "source": [
    "##### 利用 SingleTsFeature 对 TE_1003 加工特征变量"
   ]
  },
  {
   "cell_type": "code",
   "execution_count": 361,
   "metadata": {},
   "outputs": [
    {
     "name": "stdout",
     "output_type": "stream",
     "text": [
      "add q3 successful \n",
      "add q1 successful \n"
     ]
    },
    {
     "name": "stderr",
     "output_type": "stream",
     "text": [
      "../../../tool/Khfeature.py:210: FutureWarning: Currently, 'apply' passes the values as ndarrays to the applied function. In the future, this will change to passing it as Series objects. You need to specify 'raw=True' to keep the current behaviour, and you can pass 'raw=False' to silence this warning\n",
      "  self._df[varname] = self._df[self._column].rolling(window=window).apply(kc1.gradient)\n"
     ]
    },
    {
     "name": "stdout",
     "output_type": "stream",
     "text": [
      "add_slope successful \n"
     ]
    }
   ],
   "source": [
    "### 1. 加工特征\n",
    "s1 = kf.SingleTsFeature(data[\"TE_1003\"]-th)  ##  将原始温度 减去 温度阈值 加工特征\n",
    "s1.add_roll_quantile(q = 0.75,window=roll_window,varname = \"q3\")\n",
    "s1.add_roll_quantile(q = 0.25,window=roll_window,varname = \"q1\")\n",
    "s1.add_slope(window=slope_window)"
   ]
  },
  {
   "cell_type": "code",
   "execution_count": 369,
   "metadata": {},
   "outputs": [
    {
     "data": {
      "text/html": [
       "<iframe src=\"./html/Feature_label_06.html\" width=\"900px\" height=\"400px\" frameborder=\"0\" scrolling=\"no\"> </iframe>"
      ],
      "text/plain": [
       "<IPython.core.display.HTML object>"
      ]
     },
     "execution_count": 369,
     "metadata": {},
     "output_type": "execute_result"
    }
   ],
   "source": [
    "###  2. 某些特征 用户可自行生成\n",
    "df = s1.GetDf()\n",
    "df['iqr'] = df1['q3'] -df1['q1']\n",
    "df['diff'] = data[['TE_1003a','TE_1003b','TE_1003c']].max(axis=1)-data['TE_1003']  ## 加工 温度差值 diff\n",
    "df['diff'] = df['diff'].rolling(roll_window).mean()\n",
    "df['temp'] = df['TE_1003'].rolling(temp_window).max()\n",
    "df1 = pd.concat([df,label],axis=1)\n",
    "me.Plot_LineBar(df1,columns = [\"temp\",'diff','iqr','slope','label'],name='Feature_label_06',overwrite=True)"
   ]
  },
  {
   "cell_type": "code",
   "execution_count": 5,
   "metadata": {},
   "outputs": [],
   "source": [
    "df1 = pd.read_csv(\"./data/process/Temp06.csv\",index_col=0)"
   ]
  },
  {
   "cell_type": "code",
   "execution_count": 1,
   "metadata": {},
   "outputs": [],
   "source": [
    "import matplotlib.pyplot as plt \n",
    "columns = [\"temp\",'diff','iqr','slope']\n",
    "ylims = [(-7,6),(0,3.5),(-0.5,2),(-0.03,0.03)]\n",
    "pl.figure(figsize=(20,12))\n",
    "for index,col in enumerate(columns):\n",
    "    plt.rcParams['font.family'] = 'SimHei' \n",
    "    plt.rcParams['font.size'] = 20\n",
    "    plt.rcParams['axes.unicode_minus'] = False\n",
    "    temp1 = df1.copy()\n",
    "    pl.subplot(2,2,index+1)\n",
    "    temp1['label'] =temp1['label'].map({0:u'正常',1:u'异常'})\n",
    "    temp1['index'] = temp1.index\n",
    "    temp1 = temp1.pivot_table(index = 'index',columns='label',values=col)\n",
    "    temp1 = temp1[['正常','异常']]\n",
    "    sns.set_style('whitegrid')\n",
    "    sns.boxplot(data = temp1)\n",
    "    plt.title(col)\n",
    "    plt.ylim(*ylims[index])\n",
    "    plt.xlabel('')\n",
    "pl.show()"
   ]
  },
  {
   "cell_type": "code",
   "execution_count": null,
   "metadata": {},
   "outputs": [],
   "source": []
  },
  {
   "cell_type": "markdown",
   "metadata": {},
   "source": [
    "## 四、模型训练"
   ]
  },
  {
   "cell_type": "markdown",
   "metadata": {},
   "source": [
    "### 1. 提取模型X,Y "
   ]
  },
  {
   "cell_type": "code",
   "execution_count": 403,
   "metadata": {},
   "outputs": [],
   "source": [
    "# scaler = MinMaxScaler()\n",
    "# columns = [\"temp\",'diff','iqr','slope']\n",
    "# df2 = df1.copy()\n",
    "# X= df2[columns].values\n",
    "# X1=scaler.fit_transform(X)\n",
    "# Y = df2[['label']].values\n",
    "\n",
    "# ## 保存因变量模型的 scale\n",
    "# pickle.dump(scaler, open('./model/scaler.pkl', 'wb'))"
   ]
  },
  {
   "cell_type": "code",
   "execution_count": 404,
   "metadata": {},
   "outputs": [],
   "source": [
    "# scaler.data_min_,scaler.data_max_,scaler.data_range_"
   ]
  },
  {
   "cell_type": "markdown",
   "metadata": {},
   "source": [
    "### 2. 采用 Logistic Regression 模型训练"
   ]
  },
  {
   "cell_type": "code",
   "execution_count": 409,
   "metadata": {},
   "outputs": [
    {
     "name": "stderr",
     "output_type": "stream",
     "text": [
      "/root/anaconda3/lib/python3.7/site-packages/sklearn/utils/validation.py:578: DataConversionWarning: A column-vector y was passed when a 1d array was expected. Please change the shape of y to (n_samples, ), for example using ravel().\n",
      "  y = column_or_1d(y, warn=True)\n"
     ]
    },
    {
     "name": "stdout",
     "output_type": "stream",
     "text": [
      "0.9256658595641647\n",
      "[[ 2.8438591   0.75461285 -0.57411258 -1.05654281]] [1.50807295]\n"
     ]
    }
   ],
   "source": [
    "columns = [\"temp\",'diff','iqr','slope']\n",
    "df2 = df1.copy()\n",
    "X1 = df2[columns].values\n",
    "Y = df2[['label']].values\n",
    "model = linear_model.LogisticRegression(penalty = 'none',solver = 'saga', class_weight = 'balanced', max_iter=1000)\n",
    "model.fit(X1,Y)\n",
    "print(model.score(X1,Y))\n",
    "print (model.coef_,model.intercept_)\n",
    "df2['Logistic'] = model.predict_proba(X1)[:,1]"
   ]
  },
  {
   "cell_type": "code",
   "execution_count": 410,
   "metadata": {},
   "outputs": [],
   "source": [
    "## 保存因变量模型的 model\n",
    "pickle.dump(model, open('./model/model.pkl', 'wb'))"
   ]
  },
  {
   "cell_type": "markdown",
   "metadata": {},
   "source": [
    "### 3. 阈值规则修正label"
   ]
  },
  {
   "cell_type": "code",
   "execution_count": 411,
   "metadata": {},
   "outputs": [],
   "source": [
    "## 将温度超过 th 的 label 直接置成报警概率\n",
    "temp = df2.loc[df2[df2['TE_1003']>0].index,\"Logistic\"]\n",
    "df2.loc[temp[temp<rate].index,\"Logistic\"] = rate\n",
    "df2['rate'] = rate"
   ]
  },
  {
   "cell_type": "markdown",
   "metadata": {},
   "source": [
    "### 4. 模型效果"
   ]
  },
  {
   "cell_type": "code",
   "execution_count": 415,
   "metadata": {},
   "outputs": [
    {
     "data": {
      "text/html": [
       "<iframe src=\"./html/Temp_Label_Logistic_0.html\" width=\"900px\" height=\"400px\" frameborder=\"0\" scrolling=\"no\"> </iframe>"
      ],
      "text/plain": [
       "<IPython.core.display.HTML object>"
      ]
     },
     "execution_count": 415,
     "metadata": {},
     "output_type": "execute_result"
    }
   ],
   "source": [
    "me.Plot_LineBar(df2[df2.index<\"2019-06-20 12:00:00\"],columns = ['TE_1003','Logistic','label','rate'],\\\n",
    "                name=\"Temp_Label_Logistic_0\",overwrite=True)"
   ]
  },
  {
   "cell_type": "code",
   "execution_count": 417,
   "metadata": {},
   "outputs": [
    {
     "data": {
      "text/html": [
       "<iframe src=\"./html/Temp_Label_Logistic_1.html\" width=\"900px\" height=\"400px\" frameborder=\"0\" scrolling=\"no\"> </iframe>"
      ],
      "text/plain": [
       "<IPython.core.display.HTML object>"
      ]
     },
     "execution_count": 417,
     "metadata": {},
     "output_type": "execute_result"
    }
   ],
   "source": [
    "me.Plot_LineBar(df2[df2.index>=\"2019-06-20 12:00:00\"],columns = ['TE_1003','Logistic','label','rate'],\\\n",
    "                name=\"Temp_Label_Logistic_1\",overwrite=True)"
   ]
  },
  {
   "cell_type": "code",
   "execution_count": null,
   "metadata": {},
   "outputs": [],
   "source": []
  }
 ],
 "metadata": {
  "kernelspec": {
   "display_name": "Python 3",
   "language": "python",
   "name": "python3"
  },
  "language_info": {
   "codemirror_mode": {
    "name": "ipython",
    "version": 3
   },
   "file_extension": ".py",
   "mimetype": "text/x-python",
   "name": "python",
   "nbconvert_exporter": "python",
   "pygments_lexer": "ipython3",
   "version": "3.7.1"
  }
 },
 "nbformat": 4,
 "nbformat_minor": 2
}
