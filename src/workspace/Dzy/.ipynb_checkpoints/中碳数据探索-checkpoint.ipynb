{
 "cells": [
  {
   "cell_type": "code",
   "execution_count": 78,
   "metadata": {},
   "outputs": [],
   "source": [
    "import sys\n",
    "# %store -r SYSPATHS\n",
    "SYSPATHS = {\"tool\":\"../../../tool\"}\n",
    "sys.path.append(SYSPATHS['tool'])\n",
    "import Khfeature as kf\n",
    "import Khcore1 as kc1\n",
    "import MyEcharts as me\n",
    "import pandas as pd\n",
    "import numpy as np\n",
    "import os\n",
    "from sklearn.preprocessing import MinMaxScaler,StandardScaler\n",
    "from sklearn import linear_model"
   ]
  },
  {
   "cell_type": "code",
   "execution_count": 117,
   "metadata": {},
   "outputs": [],
   "source": [
    "roll_window = '1H'\n",
    "slope_window = \"4H\""
   ]
  },
  {
   "cell_type": "code",
   "execution_count": 118,
   "metadata": {},
   "outputs": [],
   "source": [
    "r = []\n",
    "node = [\"PT_4001\",'P2002A_AI','P2002B_AI','P2003A_AI']\n",
    "for n in node:\n",
    "    r1 = kc1.ReadRawData(n)\n",
    "    r1= r1[r1.index>\"2019-06-13 19:00:00\"] \n",
    "    r.append(r1)\n",
    "rdf = pd.concat(r,axis=1)\n",
    "rdf = rdf.resample(\"1min\").mean()\n",
    "rdf.columns = node\n",
    "rdf['P2002_AB_TotalPower'] = rdf['P2002A_AI']**2 + rdf['P2002B_AI']**2"
   ]
  },
  {
   "cell_type": "code",
   "execution_count": 119,
   "metadata": {},
   "outputs": [
    {
     "name": "stdout",
     "output_type": "stream",
     "text": [
      "add AI_avg successful \n"
     ]
    },
    {
     "name": "stderr",
     "output_type": "stream",
     "text": [
      "../../../tool\\Khfeature.py:208: FutureWarning: Currently, 'apply' passes the values as ndarrays to the applied function. In the future, this will change to passing it as Series objects. You need to specify 'raw=True' to keep the current behaviour, and you can pass 'raw=False' to silence this warning\n",
      "  self._df[varname] = self._df[self._column].rolling(window=window).apply(kc1.gradient)\n"
     ]
    },
    {
     "name": "stdout",
     "output_type": "stream",
     "text": [
      "add_slope successful \n"
     ]
    }
   ],
   "source": [
    "s0 = kf.SingleTsFeature(rdf.P2002_AB_TotalPower)\n",
    "s0.add_roll_quantile(q = 0.75,window=roll_window,varname = \"AI_avg\")\n",
    "s0.add_slope(window=slope_window,varname='AI_slope')"
   ]
  },
  {
   "cell_type": "code",
   "execution_count": 120,
   "metadata": {},
   "outputs": [
    {
     "name": "stderr",
     "output_type": "stream",
     "text": [
      "../../../tool\\Khfeature.py:118: SettingWithCopyWarning: \n",
      "A value is trying to be set on a copy of a slice from a DataFrame.\n",
      "Try using .loc[row_indexer,col_indexer] = value instead\n",
      "\n",
      "See the caveats in the documentation: http://pandas.pydata.org/pandas-docs/stable/indexing.html#indexing-view-versus-copy\n",
      "  t['diff']= ((pd.Series(t.index).diff().dt.total_seconds()).values/S)\n",
      "../../../tool\\Khfeature.py:119: SettingWithCopyWarning: \n",
      "A value is trying to be set on a copy of a slice from a DataFrame.\n",
      "Try using .loc[row_indexer,col_indexer] = value instead\n",
      "\n",
      "See the caveats in the documentation: http://pandas.pydata.org/pandas-docs/stable/indexing.html#indexing-view-versus-copy\n",
      "  t['diff']= t['diff'].fillna(100)\n"
     ]
    },
    {
     "name": "stdout",
     "output_type": "stream",
     "text": [
      "add label successful \n",
      "add avg successful \n"
     ]
    },
    {
     "name": "stderr",
     "output_type": "stream",
     "text": [
      "../../../tool\\Khfeature.py:208: FutureWarning: Currently, 'apply' passes the values as ndarrays to the applied function. In the future, this will change to passing it as Series objects. You need to specify 'raw=True' to keep the current behaviour, and you can pass 'raw=False' to silence this warning\n",
      "  self._df[varname] = self._df[self._column].rolling(window=window).apply(kc1.gradient)\n"
     ]
    },
    {
     "name": "stdout",
     "output_type": "stream",
     "text": [
      "add_slope successful \n"
     ]
    }
   ],
   "source": [
    "names = [\"TE_1003a\",\"TE_1003b\",\"TE_1003c\"]\n",
    "datas=  []\n",
    "for name in names:\n",
    "    datas.append(kc1.ReadRawData(name))\n",
    "data = pd.concat(datas,axis=1)\n",
    "data= data[data.index>\"2019-06-13 19:00:00\"]   ## 2019-06-13 19:00:00 之前属于数据测点调试阶段\n",
    "data.columns = names\n",
    "data = data.resample(\"1min\").mean()\n",
    "data1 = data.max(axis=1)\n",
    "\n",
    "## 根据温度最大值 生成label\n",
    "s = kf.SingleTsFeature(data1)\n",
    "s.add_label(th=62.4,left_window = '60min',right_window=\"5min\",merge_window=\"20min\")\n",
    "\n",
    "## 根据平局温度 生成特征\n",
    "df = kc1.GenerateAvgTemp([\"TE_1003a\",\"TE_1003b\",\"TE_1003c\"],column='value', factory='中碳能源', month='2019_06')\n",
    "df= df[df.index>\"2019-06-13 19:00:00\"]\n",
    "df = df.resample(\"1min\").mean()\n",
    "df.columns = ['TE_1003']\n",
    "s1 = kf.SingleTsFeature(df)\n",
    "s1.add_roll_quantile(q = 0.75,window=roll_window,varname = \"avg\")\n",
    "s1.add_roll_func(func = 'mean',window=roll_window,varname = \"mean\")\n",
    "s1.add_slope(window=slope_window)\n",
    "\n",
    "df1 = pd.concat([data[['TE_1003a','TE_1003b','TE_1003c']],s1.GetDf(),s.GetDf()[['label']]],axis=1)\n",
    "df1['diff'] = df1[['TE_1003a','TE_1003b','TE_1003c']].max(axis=1)-df1['TE_1003']  ## 温度峰峰值\n",
    "df1['diff'] = df1['diff'].rolling(roll_window).mean()"
   ]
  },
  {
   "cell_type": "code",
   "execution_count": 121,
   "metadata": {},
   "outputs": [],
   "source": [
    "df1 = pd.concat([df1,s0.GetDf()],axis=1)"
   ]
  },
  {
   "cell_type": "code",
   "execution_count": 124,
   "metadata": {},
   "outputs": [],
   "source": [
    "scaler = MinMaxScaler()\n",
    "## 采用 Logistic Regression 模型\n",
    "X= df1[['diff','avg','slope','AI_avg','AI_slope']].values\n",
    "X1=scaler.fit_transform(X)\n",
    "Y = df1[['label']].values"
   ]
  },
  {
   "cell_type": "code",
   "execution_count": 125,
   "metadata": {},
   "outputs": [
    {
     "name": "stderr",
     "output_type": "stream",
     "text": [
      "D:\\ProgramData\\Anaconda3\\lib\\site-packages\\sklearn\\utils\\validation.py:761: DataConversionWarning: A column-vector y was passed when a 1d array was expected. Please change the shape of y to (n_samples, ), for example using ravel().\n",
      "  y = column_or_1d(y, warn=True)\n"
     ]
    },
    {
     "name": "stdout",
     "output_type": "stream",
     "text": [
      "0.9257465698143664\n",
      "[[ 15.44450901  24.53667875   1.16680798  -0.82254389 -10.36676926]]\n"
     ]
    },
    {
     "name": "stderr",
     "output_type": "stream",
     "text": [
      "D:\\ProgramData\\Anaconda3\\lib\\site-packages\\IPython\\core\\display.py:689: UserWarning: Consider using IPython.display.IFrame instead\n",
      "  warnings.warn(\"Consider using IPython.display.IFrame instead\")\n"
     ]
    },
    {
     "data": {
      "text/html": [
       "<iframe src=\".\\html/label_Logistic.html\" width=\"900px\" height=\"400px\" frameborder=\"0\" scrolling=\"no\"> </iframe>"
      ],
      "text/plain": [
       "<IPython.core.display.HTML object>"
      ]
     },
     "execution_count": 125,
     "metadata": {},
     "output_type": "execute_result"
    }
   ],
   "source": [
    "model = linear_model.LogisticRegression( solver = 'saga', class_weight = 'balanced', max_iter=1000)\n",
    "model.fit(X1,Y)\n",
    "print(model.score(X1,Y))\n",
    "print (model.coef_)\n",
    "df1['TE_1003a']/=df1['TE_1003a'].max()\n",
    "df1['Logistic'] = model.predict_proba(X1)[:,1]\n",
    "me.Plot_LineBar(df1,columns=['TE_1003a','label','Logistic'],name=\"label_Logistic\",overwrite=True)"
   ]
  },
  {
   "cell_type": "code",
   "execution_count": 202,
   "metadata": {},
   "outputs": [],
   "source": []
  },
  {
   "cell_type": "code",
   "execution_count": null,
   "metadata": {},
   "outputs": [],
   "source": []
  }
 ],
 "metadata": {
  "kernelspec": {
   "display_name": "Python 3",
   "language": "python",
   "name": "python3"
  },
  "language_info": {
   "codemirror_mode": {
    "name": "ipython",
    "version": 3
   },
   "file_extension": ".py",
   "mimetype": "text/x-python",
   "name": "python",
   "nbconvert_exporter": "python",
   "pygments_lexer": "ipython3",
   "version": "3.7.1"
  }
 },
 "nbformat": 4,
 "nbformat_minor": 2
}
