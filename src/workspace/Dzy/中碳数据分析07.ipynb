{
 "cells": [
  {
   "cell_type": "code",
   "execution_count": 1,
   "metadata": {},
   "outputs": [
    {
     "data": {
      "text/plain": [
       "<module 'Khcore1' from '/home/khpython/Root/tool/Khcore1.py'>"
      ]
     },
     "execution_count": 1,
     "metadata": {},
     "output_type": "execute_result"
    }
   ],
   "source": [
    "import sys\n",
    "%store -r SYSPATHS\n",
    "sys.path.append(SYSPATHS['tool'])\n",
    "import Khcore as kc\n",
    "import Khcore1 as kc1\n",
    "import MyEcharts as me\n",
    "import matplotlib.pyplot as plt\n",
    "import pandas as pd\n",
    "import numpy as np\n",
    "import os\n",
    "from imp import reload\n",
    "\n",
    "reload(kc)\n",
    "reload(kc1)"
   ]
  },
  {
   "cell_type": "code",
   "execution_count": 2,
   "metadata": {},
   "outputs": [
    {
     "data": {
      "text/html": [
       "<iframe src=\"./html/TE_1003_07_raw.html\" width=\"900px\" height=\"400px\" frameborder=\"0\" scrolling=\"no\"> </iframe>"
      ],
      "text/plain": [
       "<IPython.core.display.HTML object>"
      ]
     },
     "execution_count": 2,
     "metadata": {},
     "output_type": "execute_result"
    }
   ],
   "source": [
    "raw2= kc1.ReadRawData(\"TE_1003\",month=\"2019_07\")\n",
    "raw3 = raw2.resample(\"10min\").mean()\n",
    "me.Plot_LineBar(raw3,name=\"TE_1003_07_raw\",overwrite=True)"
   ]
  },
  {
   "cell_type": "code",
   "execution_count": null,
   "metadata": {},
   "outputs": [],
   "source": []
  }
 ],
 "metadata": {
  "kernelspec": {
   "display_name": "Python 3",
   "language": "python",
   "name": "python3"
  },
  "language_info": {
   "codemirror_mode": {
    "name": "ipython",
    "version": 3
   },
   "file_extension": ".py",
   "mimetype": "text/x-python",
   "name": "python",
   "nbconvert_exporter": "python",
   "pygments_lexer": "ipython3",
   "version": "3.7.0"
  }
 },
 "nbformat": 4,
 "nbformat_minor": 2
}
