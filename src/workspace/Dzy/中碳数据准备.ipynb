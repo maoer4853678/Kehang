{
 "cells": [
  {
   "cell_type": "code",
   "execution_count": 113,
   "metadata": {},
   "outputs": [
    {
     "data": {
      "text/plain": [
       "<module 'Khcore1' from '/home/khpython/Root/tool/Khcore1.py'>"
      ]
     },
     "execution_count": 113,
     "metadata": {},
     "output_type": "execute_result"
    }
   ],
   "source": [
    "import sys\n",
    "%store -r SYSPATHS\n",
    "sys.path.append(SYSPATHS['tool'])\n",
    "import Khcore as kc\n",
    "import Khcore1 as kc1\n",
    "import MyEcharts as me\n",
    "import matplotlib.pyplot as plt\n",
    "import pandas as pd\n",
    "import numpy as np\n",
    "import os\n",
    "from imp import reload\n",
    "\n",
    "reload(kc)\n",
    "reload(kc1)"
   ]
  },
  {
   "cell_type": "code",
   "execution_count": 121,
   "metadata": {},
   "outputs": [],
   "source": [
    "'''\n",
    "浓缩段温度三个量是TE_1003a, TE_1003b, TE_1003c,\n",
    "氧化槽PH是AR-2201，加氨槽pH是AR-2202，\n",
    "出口SO2是 ATTLT_6, 出口含氧量是ATTLT_3\n",
    "'''\n",
    "nodes_id = [\"TE_1003a\",\"TE_1003b\",\"TE_1003c\",'AR-2201','AR-2202','ATTLT_3','ATTLT_6']"
   ]
  },
  {
   "cell_type": "code",
   "execution_count": null,
   "metadata": {},
   "outputs": [],
   "source": [
    "for node_id in nodes_id:\n",
    "    print (\"node_id : %s\"%(node_id))\n",
    "    df = kc1.GetNode_data(node_id,factory='中碳能源',month=\"2019_06\",\\\n",
    "                 start = '2019-06-01 00:00:00',end = '2019-07-01 00:00:00',save=True,freq = \"10S\")\n",
    "    print (df.shape)"
   ]
  },
  {
   "cell_type": "code",
   "execution_count": null,
   "metadata": {},
   "outputs": [],
   "source": [
    "for node_id in nodes_id:\n",
    "    print (\"node_id : %s\"%(node_id))\n",
    "    df = kc1.GetNode_data(node_id,factory='中碳能源',month=\"2019_07\",\\\n",
    "                 start = '2019-07-01 00:00:00',end = '2019-07-13 00:00:00',save=True,freq = \"10S\")\n",
    "    print (df.shape)"
   ]
  },
  {
   "cell_type": "code",
   "execution_count": null,
   "metadata": {},
   "outputs": [],
   "source": [
    "## 生成 浓缩段平均温度\n",
    "kc1.GenerateAvgTemp([\"TE_1003a\",\"TE_1003b\",\"TE_1003c\"],month=\"2019_06\",factory=\"中碳能源\",filename=\"TE_1003\")\n",
    "kc1.GenerateAvgTemp([\"TE_1003a\",\"TE_1003b\",\"TE_1003c\"],month=\"2019_07\",factory=\"中碳能源\",filename=\"TE_1003\")"
   ]
  },
  {
   "cell_type": "code",
   "execution_count": null,
   "metadata": {},
   "outputs": [],
   "source": []
  },
  {
   "cell_type": "code",
   "execution_count": 125,
   "metadata": {},
   "outputs": [
    {
     "name": "stdout",
     "output_type": "stream",
     "text": [
      "node_id : TE_1003\n",
      "TE_1003 shape : (159853, 1)\n",
      "start 2019-06-12 11:57:50 <class 'pandas._libs.tslibs.timestamps.Timestamp'>\n",
      "end 2019-06-30 23:59:50 <class 'pandas._libs.tslibs.timestamps.Timestamp'>\n",
      "TE_1003 feature : (5323, 8)\n",
      "(5323, 8)\n",
      "node_id : TE_1003\n",
      "TE_1003 shape : (103680, 1)\n",
      "start 2019-07-01 00:00:00 <class 'pandas._libs.tslibs.timestamps.Timestamp'>\n",
      "end 2019-07-12 23:59:50 <class 'pandas._libs.tslibs.timestamps.Timestamp'>\n",
      "TE_1003 feature : (3450, 8)\n",
      "(3450, 8)\n",
      "node_id : AR-2201\n",
      "AR-2201 shape : (159851, 1)\n",
      "start 2019-06-12 11:58:10 <class 'pandas._libs.tslibs.timestamps.Timestamp'>\n",
      "end 2019-06-30 23:59:50 <class 'pandas._libs.tslibs.timestamps.Timestamp'>\n",
      "AR-2201 feature : (5323, 8)\n",
      "(5323, 8)\n",
      "node_id : AR-2201\n",
      "AR-2201 shape : (103658, 1)\n",
      "start 2019-07-01 00:03:40 <class 'pandas._libs.tslibs.timestamps.Timestamp'>\n",
      "end 2019-07-12 23:59:50 <class 'pandas._libs.tslibs.timestamps.Timestamp'>\n",
      "AR-2201 feature : (3450, 8)\n",
      "(3450, 8)\n",
      "node_id : AR-2202\n",
      "AR-2202 shape : (159851, 1)\n",
      "start 2019-06-12 11:58:10 <class 'pandas._libs.tslibs.timestamps.Timestamp'>\n",
      "end 2019-06-30 23:59:50 <class 'pandas._libs.tslibs.timestamps.Timestamp'>\n",
      "AR-2202 feature : (5323, 8)\n",
      "(5323, 8)\n",
      "node_id : AR-2202\n",
      "AR-2202 shape : (103677, 1)\n",
      "start 2019-07-01 00:00:30 <class 'pandas._libs.tslibs.timestamps.Timestamp'>\n",
      "end 2019-07-12 23:59:50 <class 'pandas._libs.tslibs.timestamps.Timestamp'>\n",
      "AR-2202 feature : (3450, 8)\n",
      "(3450, 8)\n",
      "node_id : ATTLT_3\n",
      "ATTLT_3 shape : (159853, 1)\n",
      "start 2019-06-12 11:57:50 <class 'pandas._libs.tslibs.timestamps.Timestamp'>\n",
      "end 2019-06-30 23:59:50 <class 'pandas._libs.tslibs.timestamps.Timestamp'>\n",
      "ATTLT_3 feature : (5323, 8)\n",
      "(5323, 8)\n",
      "node_id : ATTLT_3\n",
      "ATTLT_3 shape : (103680, 1)\n",
      "start 2019-07-01 00:00:00 <class 'pandas._libs.tslibs.timestamps.Timestamp'>\n",
      "end 2019-07-12 23:59:50 <class 'pandas._libs.tslibs.timestamps.Timestamp'>\n",
      "ATTLT_3 feature : (3450, 8)\n",
      "(3450, 8)\n",
      "node_id : ATTLT_6\n",
      "ATTLT_6 shape : (159853, 1)\n",
      "start 2019-06-12 11:57:50 <class 'pandas._libs.tslibs.timestamps.Timestamp'>\n",
      "end 2019-06-30 23:59:50 <class 'pandas._libs.tslibs.timestamps.Timestamp'>\n",
      "ATTLT_6 feature : (5323, 8)\n",
      "(5323, 8)\n",
      "node_id : ATTLT_6\n",
      "ATTLT_6 shape : (103680, 1)\n",
      "start 2019-07-01 00:00:00 <class 'pandas._libs.tslibs.timestamps.Timestamp'>\n",
      "end 2019-07-12 23:59:50 <class 'pandas._libs.tslibs.timestamps.Timestamp'>\n",
      "ATTLT_6 feature : (3450, 8)\n",
      "(3450, 8)\n"
     ]
    }
   ],
   "source": [
    "nodes_id1= [\"TE_1003\",'AR-2201','AR-2202','ATTLT_3','ATTLT_6']\n",
    "for node_id in nodes_id1:\n",
    "    for month in [\"2019_06\",\"2019_07\"]:\n",
    "        print (\"node_id : %s\"%(node_id))\n",
    "        df = kc1.SingleVarStat(node_id=node_id,window=\"30min\",step = \"5min\",\\\n",
    "                           column='value',factory=\"中碳能源\",month=month,save=True)\n",
    "        print (df.shape)"
   ]
  },
  {
   "cell_type": "code",
   "execution_count": null,
   "metadata": {},
   "outputs": [],
   "source": []
  }
 ],
 "metadata": {
  "kernelspec": {
   "display_name": "Python 3",
   "language": "python",
   "name": "python3"
  },
  "language_info": {
   "codemirror_mode": {
    "name": "ipython",
    "version": 3
   },
   "file_extension": ".py",
   "mimetype": "text/x-python",
   "name": "python",
   "nbconvert_exporter": "python",
   "pygments_lexer": "ipython3",
   "version": "3.7.0"
  }
 },
 "nbformat": 4,
 "nbformat_minor": 2
}
