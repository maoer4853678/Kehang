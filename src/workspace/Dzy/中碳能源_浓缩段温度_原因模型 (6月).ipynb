{
 "cells": [
  {
   "cell_type": "code",
   "execution_count": 17,
   "metadata": {},
   "outputs": [],
   "source": [
    "import sys\n",
    "# %store -r SYSPATHS\n",
    "SYSPATHS = {\"tool\":\"../../../tool\"}\n",
    "sys.path.append(SYSPATHS['tool'])\n",
    "import Khfeature as kf\n",
    "import Khcore1 as kc1\n",
    "import MyEcharts as me\n",
    "import pandas as pd\n",
    "import numpy as np\n",
    "import pylab as pl\n",
    "import os\n",
    "from sklearn.preprocessing import MinMaxScaler,StandardScaler\n",
    "from sklearn import linear_model\n",
    "import pickle"
   ]
  },
  {
   "cell_type": "code",
   "execution_count": 2,
   "metadata": {},
   "outputs": [],
   "source": [
    "step = \"1min\"  ## 计算步进间隔\n",
    "roll_window = '1H'  ## 滑动计算窗口\n",
    "slope_window = \"4H\"  ## 斜率计算窗口"
   ]
  },
  {
   "cell_type": "markdown",
   "metadata": {},
   "source": [
    "## 一、浓缩段温度异常工况故障树梳理"
   ]
  },
  {
   "cell_type": "markdown",
   "metadata": {},
   "source": [
    "<table>\n",
    "\t<tr>\n",
    "    <th>异常工况</th>\n",
    "    <th>故障现象</th>\n",
    "    <th>故障一级原因</th>\n",
    "    <th>故障二级原因</th>\n",
    "    <th>备注</th>\n",
    "   </tr>\n",
    "\n",
    "  <tr>\n",
    "    <td rowspan=\"7\" valign=\"middle\" align=\"middle\">浓缩段温度超标</td>\n",
    "    <td rowspan=\"7\" valign=\"middle\" align=\"middle\">浓缩段温度升高</td>\n",
    "   </tr>\n",
    "   \n",
    "  <tr>\n",
    "    <td valign=\"middle\" align=\"middle\">入口负荷增加</td>\n",
    "    <td valign=\"middle\" align=\"middle\">原烟气温度升高</td>\n",
    "    <td valign=\"middle\" align=\"middle\">对应测点 原烟气温度</td>\n",
    "   <tr>\n",
    "       \n",
    "   <tr>\n",
    "    <td valign=\"middle\" align=\"middle\">处于两个浓缩泵切换过程</td>\n",
    "    <td> </td>\n",
    "    <td valign=\"middle\" align=\"middle\">对应测点 浓缩泵A电流<br>浓缩泵B电流</td>\n",
    "   </tr>\n",
    "   \n",
    "   <tr>\n",
    "    <td valign=\"middle\" align=\"middle\">脱硫塔固含量升高</td>\n",
    "    <td valign=\"middle\" align=\"middle\">处于出料期间</td>\n",
    "    <td valign=\"middle\" align=\"middle\">对应测点 蒸汽母管流量<br>\n",
    "塔底浆液液位<br>\n",
    "固含量可以通过检测化验方式获取</td>\n",
    "   </tr>\n",
    "   \n",
    "   <tr>\n",
    "    <td valign=\"middle\" align=\"middle\">入口烟气含高温水</td>\n",
    "    <td valign=\"middle\" align=\"middle\">锅炉爆管导致</td>\n",
    "    <td valign=\"middle\" align=\"middle\">对应锅炉段测点</td>\n",
    "   </tr>\n",
    "</table>"
   ]
  },
  {
   "cell_type": "markdown",
   "metadata": {},
   "source": [
    "## 二、获取自变量数据"
   ]
  },
  {
   "cell_type": "code",
   "execution_count": 4,
   "metadata": {},
   "outputs": [
    {
     "data": {
      "text/html": [
       "<div>\n",
       "<style scoped>\n",
       "    .dataframe tbody tr th:only-of-type {\n",
       "        vertical-align: middle;\n",
       "    }\n",
       "\n",
       "    .dataframe tbody tr th {\n",
       "        vertical-align: top;\n",
       "    }\n",
       "\n",
       "    .dataframe thead th {\n",
       "        text-align: right;\n",
       "    }\n",
       "</style>\n",
       "<table border=\"1\" class=\"dataframe\">\n",
       "  <thead>\n",
       "    <tr style=\"text-align: right;\">\n",
       "      <th></th>\n",
       "      <th>浓缩段温度A</th>\n",
       "      <th>浓缩段温度B</th>\n",
       "      <th>浓缩段温度C</th>\n",
       "      <th>蒸汽压力</th>\n",
       "      <th>浓缩泵A电流</th>\n",
       "      <th>浓缩泵B电流</th>\n",
       "      <th>浓缩泵出口压力</th>\n",
       "      <th>排出泵A电流</th>\n",
       "      <th>塔原烟气温度</th>\n",
       "      <th>塔吸收段温度</th>\n",
       "      <th>label</th>\n",
       "      <th>Logistic</th>\n",
       "      <th>浓缩泵电流</th>\n",
       "    </tr>\n",
       "    <tr>\n",
       "      <th>time</th>\n",
       "      <th></th>\n",
       "      <th></th>\n",
       "      <th></th>\n",
       "      <th></th>\n",
       "      <th></th>\n",
       "      <th></th>\n",
       "      <th></th>\n",
       "      <th></th>\n",
       "      <th></th>\n",
       "      <th></th>\n",
       "      <th></th>\n",
       "      <th></th>\n",
       "      <th></th>\n",
       "    </tr>\n",
       "  </thead>\n",
       "  <tbody>\n",
       "    <tr>\n",
       "      <th>2019-06-13 19:00:00</th>\n",
       "      <td>61.355300</td>\n",
       "      <td>59.926700</td>\n",
       "      <td>59.816900</td>\n",
       "      <td>0.0</td>\n",
       "      <td>0.293000</td>\n",
       "      <td>190.378500</td>\n",
       "      <td>0.452300</td>\n",
       "      <td>0.415100</td>\n",
       "      <td>150.525000</td>\n",
       "      <td>55.274700</td>\n",
       "      <td>0.0</td>\n",
       "      <td>0.579946</td>\n",
       "      <td>190.378725</td>\n",
       "    </tr>\n",
       "    <tr>\n",
       "      <th>2019-06-13 19:01:00</th>\n",
       "      <td>61.558003</td>\n",
       "      <td>59.875460</td>\n",
       "      <td>59.851057</td>\n",
       "      <td>0.0</td>\n",
       "      <td>0.293000</td>\n",
       "      <td>190.144067</td>\n",
       "      <td>0.452220</td>\n",
       "      <td>0.408593</td>\n",
       "      <td>150.518510</td>\n",
       "      <td>55.275943</td>\n",
       "      <td>0.0</td>\n",
       "      <td>0.572139</td>\n",
       "      <td>190.144292</td>\n",
       "    </tr>\n",
       "    <tr>\n",
       "      <th>2019-06-13 19:02:00</th>\n",
       "      <td>61.684993</td>\n",
       "      <td>59.822970</td>\n",
       "      <td>59.844953</td>\n",
       "      <td>0.0</td>\n",
       "      <td>0.247453</td>\n",
       "      <td>190.215693</td>\n",
       "      <td>0.451653</td>\n",
       "      <td>0.416733</td>\n",
       "      <td>150.476213</td>\n",
       "      <td>55.212473</td>\n",
       "      <td>0.0</td>\n",
       "      <td>0.598396</td>\n",
       "      <td>190.215854</td>\n",
       "    </tr>\n",
       "    <tr>\n",
       "      <th>2019-06-13 19:03:00</th>\n",
       "      <td>61.789990</td>\n",
       "      <td>59.888887</td>\n",
       "      <td>59.896207</td>\n",
       "      <td>0.0</td>\n",
       "      <td>0.195400</td>\n",
       "      <td>190.306863</td>\n",
       "      <td>0.451903</td>\n",
       "      <td>0.415100</td>\n",
       "      <td>150.466440</td>\n",
       "      <td>55.227123</td>\n",
       "      <td>0.0</td>\n",
       "      <td>0.625033</td>\n",
       "      <td>190.306964</td>\n",
       "    </tr>\n",
       "    <tr>\n",
       "      <th>2019-06-13 19:04:00</th>\n",
       "      <td>61.796087</td>\n",
       "      <td>59.901080</td>\n",
       "      <td>59.914513</td>\n",
       "      <td>0.0</td>\n",
       "      <td>0.283240</td>\n",
       "      <td>190.202680</td>\n",
       "      <td>0.452017</td>\n",
       "      <td>0.415100</td>\n",
       "      <td>150.446917</td>\n",
       "      <td>55.213703</td>\n",
       "      <td>0.0</td>\n",
       "      <td>0.651563</td>\n",
       "      <td>190.202891</td>\n",
       "    </tr>\n",
       "  </tbody>\n",
       "</table>\n",
       "</div>"
      ],
      "text/plain": [
       "                        浓缩段温度A     浓缩段温度B     浓缩段温度C  蒸汽压力    浓缩泵A电流  \\\n",
       "time                                                                   \n",
       "2019-06-13 19:00:00  61.355300  59.926700  59.816900   0.0  0.293000   \n",
       "2019-06-13 19:01:00  61.558003  59.875460  59.851057   0.0  0.293000   \n",
       "2019-06-13 19:02:00  61.684993  59.822970  59.844953   0.0  0.247453   \n",
       "2019-06-13 19:03:00  61.789990  59.888887  59.896207   0.0  0.195400   \n",
       "2019-06-13 19:04:00  61.796087  59.901080  59.914513   0.0  0.283240   \n",
       "\n",
       "                         浓缩泵B电流   浓缩泵出口压力    排出泵A电流      塔原烟气温度     塔吸收段温度  \\\n",
       "time                                                                         \n",
       "2019-06-13 19:00:00  190.378500  0.452300  0.415100  150.525000  55.274700   \n",
       "2019-06-13 19:01:00  190.144067  0.452220  0.408593  150.518510  55.275943   \n",
       "2019-06-13 19:02:00  190.215693  0.451653  0.416733  150.476213  55.212473   \n",
       "2019-06-13 19:03:00  190.306863  0.451903  0.415100  150.466440  55.227123   \n",
       "2019-06-13 19:04:00  190.202680  0.452017  0.415100  150.446917  55.213703   \n",
       "\n",
       "                     label  Logistic       浓缩泵电流  \n",
       "time                                              \n",
       "2019-06-13 19:00:00    0.0  0.579946  190.378725  \n",
       "2019-06-13 19:01:00    0.0  0.572139  190.144292  \n",
       "2019-06-13 19:02:00    0.0  0.598396  190.215854  \n",
       "2019-06-13 19:03:00    0.0  0.625033  190.306964  \n",
       "2019-06-13 19:04:00    0.0  0.651563  190.202891  "
      ]
     },
     "execution_count": 4,
     "metadata": {},
     "output_type": "execute_result"
    }
   ],
   "source": [
    "r = []\n",
    "node = ['TE_1003a','TE_1003b','TE_1003c',\"PT_4001\",'P2002A_AI','P2002B_AI','PT_2003','P2003A_AI','TE_1002','TE_1004']\n",
    "cols = ['浓缩段温度A','浓缩段温度B','浓缩段温度C','蒸汽压力','浓缩泵A电流',\\\n",
    "        '浓缩泵B电流','浓缩泵出口压力','排出泵A电流','塔原烟气温度','塔吸收段温度']\n",
    "for n in node:\n",
    "    r1 = kc1.ReadRawData(n)\n",
    "    r1= r1[r1.index>\"2019-06-13 19:00:00\"] \n",
    "    r.append(r1)\n",
    "r= pd.concat(r,axis=1)\n",
    "r = r.resample(step).mean()\n",
    "r.columns = cols\n",
    "temp = pd.read_pickle(\"../../workspace/Dzy/data/process/ZC_06.pk\")\n",
    "r = pd.concat([r,temp[['label', 'Logistic']]],axis=1) ## 加入自动标签和 预测结果\n",
    "r['浓缩泵电流'] = (r['浓缩泵A电流'].pow(2)+r['浓缩泵B电流'].pow(2)).pow(0.5)\n",
    "r.head()"
   ]
  },
  {
   "cell_type": "code",
   "execution_count": 5,
   "metadata": {},
   "outputs": [
    {
     "data": {
      "text/html": [
       "<iframe src=\"./html/reason.html\" width=\"900px\" height=\"400px\" frameborder=\"0\" scrolling=\"no\"> </iframe>"
      ],
      "text/plain": [
       "<IPython.core.display.HTML object>"
      ]
     },
     "execution_count": 5,
     "metadata": {},
     "output_type": "execute_result"
    }
   ],
   "source": [
    "r1 = (r-r.min())/(r.max()-r.min())\n",
    "me.Plot_LineBar(r1,name=\"reason\",overwrite=True)"
   ]
  },
  {
   "cell_type": "markdown",
   "metadata": {},
   "source": [
    "#### 数据观察结论：\n",
    "    1. 排出泵电流 和 蒸汽压力 都意味着处于出料期间, 但是 排出泵电流的变化 不如 蒸汽压力变化敏感，所以应以蒸汽压力作为出料期间的判定变量\n",
    "    2. 原烟气入口温度变化 波动较大\n",
    "    3. 处于出料期间时的 从 浓缩泵电流变化趋势也能体现，且浓缩泵电流趋势变化早于 蒸汽压力\n",
    "    4. 浓缩段出口压力 和 浓缩段循环泵电流变化趋势一致, 且其变化较电流 更加平稳, 但是压力没有A,B之分, 可以作为区分出料的特征, 但是无法代替电流识别 泵切换问题"
   ]
  },
  {
   "cell_type": "markdown",
   "metadata": {},
   "source": [
    "## 三、加工原因变量的特征"
   ]
  },
  {
   "cell_type": "code",
   "execution_count": 6,
   "metadata": {},
   "outputs": [
    {
     "name": "stderr",
     "output_type": "stream",
     "text": [
      "/root/anaconda3/lib/python3.7/site-packages/ipykernel_launcher.py:3: SettingWithCopyWarning: \n",
      "A value is trying to be set on a copy of a slice from a DataFrame.\n",
      "Try using .loc[row_indexer,col_indexer] = value instead\n",
      "\n",
      "See the caveats in the documentation: http://pandas.pydata.org/pandas-docs/stable/indexing.html#indexing-view-versus-copy\n",
      "  This is separate from the ipykernel package so we can avoid doing imports until\n",
      "/root/anaconda3/lib/python3.7/site-packages/ipykernel_launcher.py:4: SettingWithCopyWarning: \n",
      "A value is trying to be set on a copy of a slice from a DataFrame.\n",
      "Try using .loc[row_indexer,col_indexer] = value instead\n",
      "\n",
      "See the caveats in the documentation: http://pandas.pydata.org/pandas-docs/stable/indexing.html#indexing-view-versus-copy\n",
      "  after removing the cwd from sys.path.\n",
      "/root/anaconda3/lib/python3.7/site-packages/ipykernel_launcher.py:5: SettingWithCopyWarning: \n",
      "A value is trying to be set on a copy of a slice from a DataFrame.\n",
      "Try using .loc[row_indexer,col_indexer] = value instead\n",
      "\n",
      "See the caveats in the documentation: http://pandas.pydata.org/pandas-docs/stable/indexing.html#indexing-view-versus-copy\n",
      "  \"\"\"\n",
      "../../../tool/Khfeature.py:210: FutureWarning: Currently, 'apply' passes the values as ndarrays to the applied function. In the future, this will change to passing it as Series objects. You need to specify 'raw=True' to keep the current behaviour, and you can pass 'raw=False' to silence this warning\n",
      "  self._df[varname] = self._df[self._column].rolling(window=window).apply(kc1.gradient)\n"
     ]
    },
    {
     "name": "stdout",
     "output_type": "stream",
     "text": [
      "add 泵压力值 successful \n",
      "add_slope successful \n"
     ]
    }
   ],
   "source": [
    "### 1. 浓缩泵切换 : 已在吉林大成 和 宁夏尹品测试该特征加工的有效性\n",
    "r1 = r[['蒸汽压力']]\n",
    "r1['浓缩泵切换'] = (r['浓缩泵电流']-(r['浓缩泵B电流']-r['浓缩泵A电流']).abs()).abs()\n",
    "r1['浓缩泵切换'] = (r1['浓缩泵切换']>1.2)*1\n",
    "r1['蒸汽压力'] = (r1['蒸汽压力']>0.1)*1\n",
    "s0 = kf.SingleTsFeature(r[\"浓缩泵出口压力\"])\n",
    "s0.add_roll_quantile(q=0.75,varname=\"泵压力值\",window=roll_window)\n",
    "s0.add_slope(varname=\"泵斜率\",window=slope_window)\n",
    "r1 = pd.concat([r1,s0.GetDf(),r[['Logistic']]],axis=1)"
   ]
  },
  {
   "cell_type": "code",
   "execution_count": 7,
   "metadata": {},
   "outputs": [
    {
     "data": {
      "text/html": [
       "<iframe src=\"./html/temp.html\" width=\"900px\" height=\"400px\" frameborder=\"0\" scrolling=\"no\"> </iframe>"
      ],
      "text/plain": [
       "<IPython.core.display.HTML object>"
      ]
     },
     "execution_count": 7,
     "metadata": {},
     "output_type": "execute_result"
    }
   ],
   "source": [
    "temp = (r1-r1.min())/(r1.max()-r1.min())\n",
    "me.Plot_LineBar(temp,name=\"temp\",overwrite=True)"
   ]
  },
  {
   "cell_type": "markdown",
   "metadata": {},
   "source": [
    "## 二、标记原因标签\n",
    "0. 正常\n",
    "1. 处于出料期间\n",
    "2. 浓缩泵切换\n",
    "3. 浓缩泵异常\n",
    "4. 原烟气温度异常\n",
    "5. 其他"
   ]
  },
  {
   "cell_type": "code",
   "execution_count": 8,
   "metadata": {},
   "outputs": [],
   "source": [
    "r2 = r1[['蒸汽压力', '浓缩泵切换', '泵压力值', '泵斜率']]\n",
    "\n",
    "### 观察浓缩泵出口压力 处于下降且不属于出料期间的 标记为 浓缩泵异常\n",
    "bins = [['2019-06-14 06:36','2019-06-14 10:28'],['2019-06-23 08:21','2019-06-23 13:28'],\\\n",
    "        ['2019-06-25 22:40','2019-06-26 05:46'],['2019-06-27 07:19','2019-06-27 08:33'],\\\n",
    "        ['2019-06-28 10:04','2019-06-28 15:00'],['2019-06-30 00:28','2019-06-30 01:48']]\n",
    "labels =['浓缩泵异常']*len(bins)\n",
    "r2 = kc1.generate_label(r2,bins=bins,labels=labels)\n",
    "\n",
    "### 观察蒸汽压力 为 1 的标记为 出料期间\n",
    "r2.loc[r2[r2['蒸汽压力']==1].index,'label'] = '处于出料期间'\n",
    "\n",
    "### 将Logistic 超过报警阈值, 且无标记的标记为 其他\n",
    "temp = r2.loc[r[r['Logistic']>0.6].index,\"label\"]\n",
    "r2.loc[temp[temp.isnull()].index,\"label\"] = \"其他\"\n",
    "\n",
    "### 剩余标签 标记为 正常\n",
    "r2['label']=  r2['label'].fillna('正常')"
   ]
  },
  {
   "cell_type": "code",
   "execution_count": 9,
   "metadata": {},
   "outputs": [
    {
     "data": {
      "text/html": [
       "<iframe src=\"./html/reason_auto_label.html\" width=\"900px\" height=\"400px\" frameborder=\"0\" scrolling=\"no\"> </iframe>"
      ],
      "text/plain": [
       "<IPython.core.display.HTML object>"
      ]
     },
     "execution_count": 9,
     "metadata": {},
     "output_type": "execute_result"
    }
   ],
   "source": [
    "##  观看 原因标记效果\n",
    "temp = pd.pivot_table(r2,index = 'time',columns='label',values=\"泵压力值\",aggfunc = \"first\")\n",
    "temp = pd.concat([temp,r2[['蒸汽压力', '浓缩泵切换']],r1[['Logistic']]],axis=1)\n",
    "me.Plot_LineBar(temp,name=\"reason_auto_label\",overwrite=True)"
   ]
  },
  {
   "cell_type": "markdown",
   "metadata": {},
   "source": [
    "## 三、模型训练"
   ]
  },
  {
   "cell_type": "markdown",
   "metadata": {},
   "source": [
    "### 1. 提取模型X,Y "
   ]
  },
  {
   "cell_type": "code",
   "execution_count": 25,
   "metadata": {},
   "outputs": [],
   "source": [
    "scaler = MinMaxScaler()\n",
    "X= r2[['蒸汽压力', '浓缩泵切换', '泵压力值', '泵斜率']].values\n",
    "X1=scaler.fit_transform(X)\n",
    "Y = r2[['label']].values"
   ]
  },
  {
   "cell_type": "code",
   "execution_count": 26,
   "metadata": {},
   "outputs": [],
   "source": [
    "## 保存原因模型的 scale\n",
    "pickle.dump(scaler, open('./model/reason_scale.pkl', 'wb'))"
   ]
  },
  {
   "cell_type": "markdown",
   "metadata": {},
   "source": [
    "### 2. 模型训练"
   ]
  },
  {
   "cell_type": "code",
   "execution_count": 27,
   "metadata": {},
   "outputs": [
    {
     "name": "stderr",
     "output_type": "stream",
     "text": [
      "/root/anaconda3/lib/python3.7/site-packages/sklearn/utils/validation.py:578: DataConversionWarning: A column-vector y was passed when a 1d array was expected. Please change the shape of y to (n_samples, ), for example using ravel().\n",
      "  y = column_or_1d(y, warn=True)\n"
     ]
    }
   ],
   "source": [
    "from sklearn.neighbors.nearest_centroid import NearestCentroid\n",
    "import numpy as np\n",
    "clf = NearestCentroid()\n",
    "clf.fit(X1, Y)\n",
    "r2['predict'] = clf.predict(X1)"
   ]
  },
  {
   "cell_type": "code",
   "execution_count": 28,
   "metadata": {},
   "outputs": [],
   "source": [
    "## 保存原因模型的 model\n",
    "pickle.dump(clf, open('./model/reason_model.pkl', 'wb'))"
   ]
  },
  {
   "cell_type": "code",
   "execution_count": 29,
   "metadata": {},
   "outputs": [
    {
     "name": "stdout",
     "output_type": "stream",
     "text": [
      "全域下的 模型预测精度 : 71.78%\n",
      "被错误分类的标签为 : 正常  \n",
      " 模型预测为: \n",
      "其他       5759\n",
      "浓缩泵异常     548\n",
      "Name: predict, dtype: int64\n",
      "******************************\n",
      "被错误分类的标签为 : 其他  \n",
      " 模型预测为: \n",
      "正常       179\n",
      "浓缩泵异常    155\n",
      "Name: predict, dtype: int64\n",
      "******************************\n",
      "被错误分类的标签为 : 浓缩泵异常  \n",
      " 模型预测为: \n",
      "其他    315\n",
      "正常     37\n",
      "Name: predict, dtype: int64\n",
      "******************************\n"
     ]
    }
   ],
   "source": [
    "## 全域下的 模型预测精度\n",
    "print (\"全域下的 模型预测精度 : %0.2f%%\"%(clf.score(X1,Y)*100))\n",
    "temp = r2[r2.label!=r2.predict]\n",
    "for label in temp.label.unique():\n",
    "    print ('被错误分类的标签为 : %s  \\n 模型预测为: '%label)\n",
    "    print (temp[temp.label==label].predict.value_counts())\n",
    "    print (\"*\"*30)"
   ]
  },
  {
   "cell_type": "code",
   "execution_count": 30,
   "metadata": {},
   "outputs": [
    {
     "name": "stdout",
     "output_type": "stream",
     "text": [
      "超过报警阈值下的 模型预测精度 : 91.76%\n"
     ]
    }
   ],
   "source": [
    "## 超过报警阈值下的 模型预测精度\n",
    "temp = r2[(r1.Logistic>0.6)]\n",
    "score = len(temp[temp.label==temp.predict])/len(temp)*100\n",
    "print (\"超过报警阈值下的 模型预测精度 : %0.2f%%\"%(score))"
   ]
  },
  {
   "cell_type": "code",
   "execution_count": 16,
   "metadata": {},
   "outputs": [
    {
     "data": {
      "text/html": [
       "<iframe src=\"./html/reason_auto_predict.html\" width=\"900px\" height=\"400px\" frameborder=\"0\" scrolling=\"no\"> </iframe>"
      ],
      "text/plain": [
       "<IPython.core.display.HTML object>"
      ]
     },
     "execution_count": 16,
     "metadata": {},
     "output_type": "execute_result"
    }
   ],
   "source": [
    "##  观看 原因标记效果\n",
    "temp = pd.pivot_table(r2,index = 'time',columns='label',values=\"泵压力值\",aggfunc = \"first\")\n",
    "temp = pd.concat([temp,r2[['蒸汽压力', '浓缩泵切换']],r1[['Logistic']]],axis=1)\n",
    "temp['预测正确'] = (r2.label==r2.predict)*1\n",
    "me.Plot_LineBar(temp,name=\"reason_auto_predict\",overwrite=True)"
   ]
  },
  {
   "cell_type": "code",
   "execution_count": null,
   "metadata": {},
   "outputs": [],
   "source": []
  }
 ],
 "metadata": {
  "kernelspec": {
   "display_name": "Python 3",
   "language": "python",
   "name": "python3"
  },
  "language_info": {
   "codemirror_mode": {
    "name": "ipython",
    "version": 3
   },
   "file_extension": ".py",
   "mimetype": "text/x-python",
   "name": "python",
   "nbconvert_exporter": "python",
   "pygments_lexer": "ipython3",
   "version": "3.7.0"
  }
 },
 "nbformat": 4,
 "nbformat_minor": 2
}
