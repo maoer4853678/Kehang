{
 "cells": [
  {
   "cell_type": "code",
   "execution_count": 2,
   "metadata": {},
   "outputs": [],
   "source": [
    "import sys\n",
    "%store -r SYSPATHS\n",
    "sys.path.append(SYSPATHS['tool'])\n",
    "import Khcore1 as kc1"
   ]
  },
  {
   "cell_type": "markdown",
   "metadata": {},
   "source": [
    "## 函数调用方式"
   ]
  },
  {
   "cell_type": "markdown",
   "metadata": {},
   "source": [
    "##### 场景一： 获取单个测点的 秒级数据"
   ]
  },
  {
   "cell_type": "code",
   "execution_count": 3,
   "metadata": {},
   "outputs": [
    {
     "name": "stdout",
     "output_type": "stream",
     "text": [
      "2019-06-12 15:07:42 --- 2019-06-12 17:37:42 : (160, 3)\n",
      "2019-06-12 17:37:42 --- 2019-06-12 20:07:42 : (243, 3)\n",
      "2019-06-13 13:37:42 --- 2019-06-13 16:07:42 : (286, 3)\n",
      "2019-06-13 16:07:42 --- 2019-06-13 18:37:42 : (1254, 3)\n",
      "2019-06-13 18:37:42 --- 2019-06-13 21:07:42 : (2013, 3)\n",
      "2019-06-13 21:07:42 --- 2019-06-13 23:37:42 : (2201, 3)\n",
      "2019-06-13 23:37:42 --- 2019-06-14 02:07:42 : (2099, 3)\n",
      "2019-06-14 02:07:42 --- 2019-06-14 04:37:42 : (1990, 3)\n",
      "2019-06-14 04:37:42 --- 2019-06-14 07:07:42 : (2163, 3)\n",
      "2019-06-14 07:07:42 --- 2019-06-14 09:37:42 : (2190, 3)\n",
      "2019-06-14 09:37:42 --- 2019-06-14 12:07:42 : (2138, 3)\n",
      "2019-06-14 12:07:42 --- 2019-06-14 14:37:42 : (2137, 3)\n",
      "2019-06-14 14:37:42 --- 2019-06-14 15:07:42 : (422, 3)\n",
      "                     quality  state    value\n",
      "time                                        \n",
      "2019-06-12 15:43:30    192.0    0.0  58.9377\n",
      "2019-06-12 15:43:31    192.0    0.0  58.9377\n",
      "2019-06-12 15:43:32    192.0    0.0  58.9377\n",
      "2019-06-12 15:43:33    192.0    0.0  58.9377\n",
      "2019-06-12 15:43:34    192.0    0.0  58.9377\n"
     ]
    }
   ],
   "source": [
    "## node_id是点位名称， start是数据开始时间, end是数据截止时间 ,时间范围筛选方式为 >=start and <end\n",
    "df = kc1.GetNode_data(node_id=\"TE_1003a\",start = \"2019-06-12 15:07:42\",end = \"2019-06-14 15:07:42\")\n",
    "print (df.head())   ## 查看数据前五行\n",
    "\n",
    "## 存储数据至服务器, 请设置 factory , month  和 save\n",
    "# df = kc1.GetNode_data(node_id=\"TE_1003a\",start = \"2019-06-12 15:07:42\",end = \"2019-06-14 15:07:42\",factory='中碳能源',\\\n",
    "#                      month='2019_06',save=True)"
   ]
  },
  {
   "cell_type": "markdown",
   "metadata": {},
   "source": [
    "###### 场景二： 获取单个测点 数据 ，数据降采样成10min数据"
   ]
  },
  {
   "cell_type": "code",
   "execution_count": 3,
   "metadata": {},
   "outputs": [
    {
     "name": "stderr",
     "output_type": "stream",
     "text": [
      "/root/anaconda3/lib/python3.7/site-packages/urllib3/connectionpool.py:857: InsecureRequestWarning: Unverified HTTPS request is being made. Adding certificate verification is strongly advised. See: https://urllib3.readthedocs.io/en/latest/advanced-usage.html#ssl-warnings\n",
      "  InsecureRequestWarning)\n"
     ]
    },
    {
     "name": "stdout",
     "output_type": "stream",
     "text": [
      "                     quality  state      value\n",
      "time                                          \n",
      "2019-06-12 15:40:00    192.0    0.0  59.955103\n",
      "2019-06-12 15:50:00    192.0    0.0  61.349842\n",
      "2019-06-12 16:00:00    192.0    0.0  61.538500\n",
      "2019-06-12 16:10:00    192.0    0.0  61.538500\n",
      "2019-06-12 16:20:00    192.0    0.0  61.538500\n"
     ]
    }
   ],
   "source": [
    "df1 = GetNode_data(node_id=\"TE_1003a\",start = \"2019-06-12 15:07:42\",end = \"2019-06-14 15:07:42\",freq = \"10min\")\n",
    "print (df1.head())   ## 查看数据前五行"
   ]
  },
  {
   "cell_type": "markdown",
   "metadata": {},
   "source": [
    "##### 场景三： 获取多个测点的 秒级数据 "
   ]
  },
  {
   "cell_type": "code",
   "execution_count": 5,
   "metadata": {},
   "outputs": [
    {
     "name": "stderr",
     "output_type": "stream",
     "text": [
      "/root/anaconda3/lib/python3.7/site-packages/urllib3/connectionpool.py:857: InsecureRequestWarning: Unverified HTTPS request is being made. Adding certificate verification is strongly advised. See: https://urllib3.readthedocs.io/en/latest/advanced-usage.html#ssl-warnings\n",
      "  InsecureRequestWarning)\n",
      "/root/anaconda3/lib/python3.7/site-packages/urllib3/connectionpool.py:857: InsecureRequestWarning: Unverified HTTPS request is being made. Adding certificate verification is strongly advised. See: https://urllib3.readthedocs.io/en/latest/advanced-usage.html#ssl-warnings\n",
      "  InsecureRequestWarning)\n"
     ]
    },
    {
     "name": "stdout",
     "output_type": "stream",
     "text": [
      "                     AT_1005  TE_1003a\n",
      "time                                  \n",
      "2019-06-12 15:43:30      0.0   58.9377\n",
      "2019-06-12 15:43:31      0.0   58.9377\n",
      "2019-06-12 15:43:32      0.0   58.9377\n",
      "2019-06-12 15:43:33      0.0   58.9377\n",
      "2019-06-12 15:43:34      0.0   58.9377\n"
     ]
    }
   ],
   "source": [
    "## node_ids是点位名称列表， start是数据开始时间, end是数据截止时间 ,时间范围筛选方式为 >=start and <end\n",
    "df2 = GetNodes_data(node_ids=[\"AT_1005\",\"TE_1003a\"],start = \"2019-06-12 15:07:42\",end = \"2019-06-14 15:07:42\")\n",
    "print (df2.head())"
   ]
  },
  {
   "cell_type": "markdown",
   "metadata": {},
   "source": [
    "##### 场景四： 获取多个测点的 数据 ，数据降采样成10min数据"
   ]
  },
  {
   "cell_type": "code",
   "execution_count": 6,
   "metadata": {},
   "outputs": [
    {
     "name": "stderr",
     "output_type": "stream",
     "text": [
      "/root/anaconda3/lib/python3.7/site-packages/urllib3/connectionpool.py:857: InsecureRequestWarning: Unverified HTTPS request is being made. Adding certificate verification is strongly advised. See: https://urllib3.readthedocs.io/en/latest/advanced-usage.html#ssl-warnings\n",
      "  InsecureRequestWarning)\n",
      "/root/anaconda3/lib/python3.7/site-packages/urllib3/connectionpool.py:857: InsecureRequestWarning: Unverified HTTPS request is being made. Adding certificate verification is strongly advised. See: https://urllib3.readthedocs.io/en/latest/advanced-usage.html#ssl-warnings\n",
      "  InsecureRequestWarning)\n"
     ]
    },
    {
     "name": "stdout",
     "output_type": "stream",
     "text": [
      "                     AT_1005  TE_1003a\n",
      "time                                  \n",
      "2019-06-12 15:40:00      0.0   58.9377\n",
      "2019-06-12 15:50:00      0.0   58.9377\n",
      "2019-06-12 16:00:00      0.0   58.9377\n",
      "2019-06-12 16:10:00      0.0   58.9377\n",
      "2019-06-12 16:20:00      0.0   58.9377\n"
     ]
    }
   ],
   "source": [
    "df3 = GetNodes_data(node_ids=[\"AT_1005\",\"TE_1003a\"],start = \"2019-06-12 15:07:42\",end = \"2019-06-14 15:07:42\",freq = \"10min\")\n",
    "print (df3.head())"
   ]
  },
  {
   "cell_type": "code",
   "execution_count": null,
   "metadata": {},
   "outputs": [],
   "source": []
  }
 ],
 "metadata": {
  "kernelspec": {
   "display_name": "Python 3",
   "language": "python",
   "name": "python3"
  },
  "language_info": {
   "codemirror_mode": {
    "name": "ipython",
    "version": 3
   },
   "file_extension": ".py",
   "mimetype": "text/x-python",
   "name": "python",
   "nbconvert_exporter": "python",
   "pygments_lexer": "ipython3",
   "version": "3.7.0"
  }
 },
 "nbformat": 4,
 "nbformat_minor": 2
}
