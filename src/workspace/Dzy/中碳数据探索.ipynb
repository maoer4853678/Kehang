{
 "cells": [
  {
   "cell_type": "code",
   "execution_count": 513,
   "metadata": {},
   "outputs": [
    {
     "data": {
      "text/plain": [
       "<module 'Khcore1' from '/home/khpython/Root/tool/Khcore1.py'>"
      ]
     },
     "execution_count": 513,
     "metadata": {},
     "output_type": "execute_result"
    }
   ],
   "source": [
    "import sys\n",
    "%store -r SYSPATHS\n",
    "sys.path.append(SYSPATHS['tool'])\n",
    "import Khcore as kc\n",
    "import Khcore1 as kc1\n",
    "import MyEcharts as me\n",
    "import matplotlib.pyplot as plt\n",
    "import pandas as pd\n",
    "import numpy as np\n",
    "import os\n",
    "from imp import reload\n",
    "\n",
    "reload(kc)\n",
    "reload(kc1)"
   ]
  },
  {
   "cell_type": "code",
   "execution_count": null,
   "metadata": {},
   "outputs": [],
   "source": []
  },
  {
   "cell_type": "code",
   "execution_count": 242,
   "metadata": {},
   "outputs": [
    {
     "data": {
      "text/html": [
       "<iframe src=\"./html/TE_1003abc_06_raw.html\" width=\"900px\" height=\"400px\" frameborder=\"0\" scrolling=\"no\"> </iframe>"
      ],
      "text/plain": [
       "<IPython.core.display.HTML object>"
      ]
     },
     "execution_count": 242,
     "metadata": {},
     "output_type": "execute_result"
    }
   ],
   "source": [
    "names = [\"TE_1003a\",\"TE_1003b\",\"TE_1003c\"]\n",
    "datas=  []\n",
    "for name in names:\n",
    "    datas.append(kc1.ReadRawData(name))\n",
    "data = pd.concat(datas,axis=1)\n",
    "data= data[data.index>\"2019-06-13 19:00:00\"]\n",
    "data.columns = names\n",
    "data1 = data.resample(\"1min\").mean()\n",
    "me.Plot_LineBar(data1,name=\"TE_1003abc_06_raw\",overwrite=True)"
   ]
  },
  {
   "cell_type": "code",
   "execution_count": 276,
   "metadata": {},
   "outputs": [],
   "source": [
    "bins = [[\"2019-06-14 13:20:00\",\"2019-06-14 17:28:00\"],[\"2019-06-16 05:05:00\",\"2019-06-16 15:40:00\"],\n",
    "       [\"2019-06-17 05:00:00\",\"2019-06-17 17:31:00\"],[\"2019-06-18 11:08:00\",\"2019-06-18 17:36:00\"],\\\n",
    "       [\"2019-06-22 07:21:00\",\"2019-06-22 15:51:00\"],[\"2019-06-23 08:30:00\",\"2019-06-23 17:00:00\"],\\\n",
    "        [\"2019-06-24 23:40:00\",\"2019-06-25 03:34:00\"],[\"2019-06-25 23:30:00\",\"2019-06-26 00:35:00\"],\\\n",
    "        [\"2019-06-27 06:55:00\",\"2019-06-27 07:57:00\"],[\"2019-06-27 13:32:00\",\"2019-06-28 04:19:00\"],\\\n",
    "        [\"2019-06-28 15:12:00\",\"2019-06-29 06:35:00\"],[\"2019-06-30 02:31:00\",\"2019-06-30 07:30:00\"],\\\n",
    "       ]\n",
    "labels = [1]*len(bins)"
   ]
  },
  {
   "cell_type": "code",
   "execution_count": 309,
   "metadata": {},
   "outputs": [],
   "source": [
    "data2 = kc1.generate_label(data1,bins,labels)\n",
    "data2['label'] =data2['label'].fillna(0)\n",
    "data2['time']  =data2.index"
   ]
  },
  {
   "cell_type": "code",
   "execution_count": 520,
   "metadata": {},
   "outputs": [
    {
     "data": {
      "text/html": [
       "<div>\n",
       "<style scoped>\n",
       "    .dataframe tbody tr th:only-of-type {\n",
       "        vertical-align: middle;\n",
       "    }\n",
       "\n",
       "    .dataframe tbody tr th {\n",
       "        vertical-align: top;\n",
       "    }\n",
       "\n",
       "    .dataframe thead th {\n",
       "        text-align: right;\n",
       "    }\n",
       "</style>\n",
       "<table border=\"1\" class=\"dataframe\">\n",
       "  <thead>\n",
       "    <tr style=\"text-align: right;\">\n",
       "      <th></th>\n",
       "      <th>TE_1003a</th>\n",
       "      <th>TE_1003b</th>\n",
       "      <th>TE_1003c</th>\n",
       "      <th>label</th>\n",
       "      <th>time</th>\n",
       "    </tr>\n",
       "    <tr>\n",
       "      <th>time</th>\n",
       "      <th></th>\n",
       "      <th></th>\n",
       "      <th></th>\n",
       "      <th></th>\n",
       "      <th></th>\n",
       "    </tr>\n",
       "  </thead>\n",
       "  <tbody>\n",
       "    <tr>\n",
       "      <th>2019-06-13 19:00:00</th>\n",
       "      <td>61.355300</td>\n",
       "      <td>59.926700</td>\n",
       "      <td>59.816900</td>\n",
       "      <td>0.0</td>\n",
       "      <td>2019-06-13 19:00:00</td>\n",
       "    </tr>\n",
       "    <tr>\n",
       "      <th>2019-06-13 19:01:00</th>\n",
       "      <td>61.558003</td>\n",
       "      <td>59.875460</td>\n",
       "      <td>59.851057</td>\n",
       "      <td>0.0</td>\n",
       "      <td>2019-06-13 19:01:00</td>\n",
       "    </tr>\n",
       "    <tr>\n",
       "      <th>2019-06-13 19:02:00</th>\n",
       "      <td>61.684993</td>\n",
       "      <td>59.822970</td>\n",
       "      <td>59.844953</td>\n",
       "      <td>0.0</td>\n",
       "      <td>2019-06-13 19:02:00</td>\n",
       "    </tr>\n",
       "    <tr>\n",
       "      <th>2019-06-13 19:03:00</th>\n",
       "      <td>61.789990</td>\n",
       "      <td>59.888887</td>\n",
       "      <td>59.896207</td>\n",
       "      <td>0.0</td>\n",
       "      <td>2019-06-13 19:03:00</td>\n",
       "    </tr>\n",
       "    <tr>\n",
       "      <th>2019-06-13 19:04:00</th>\n",
       "      <td>61.796087</td>\n",
       "      <td>59.901080</td>\n",
       "      <td>59.914513</td>\n",
       "      <td>0.0</td>\n",
       "      <td>2019-06-13 19:04:00</td>\n",
       "    </tr>\n",
       "  </tbody>\n",
       "</table>\n",
       "</div>"
      ],
      "text/plain": [
       "                      TE_1003a   TE_1003b   TE_1003c  label  \\\n",
       "time                                                          \n",
       "2019-06-13 19:00:00  61.355300  59.926700  59.816900    0.0   \n",
       "2019-06-13 19:01:00  61.558003  59.875460  59.851057    0.0   \n",
       "2019-06-13 19:02:00  61.684993  59.822970  59.844953    0.0   \n",
       "2019-06-13 19:03:00  61.789990  59.888887  59.896207    0.0   \n",
       "2019-06-13 19:04:00  61.796087  59.901080  59.914513    0.0   \n",
       "\n",
       "                                   time  \n",
       "time                                     \n",
       "2019-06-13 19:00:00 2019-06-13 19:00:00  \n",
       "2019-06-13 19:01:00 2019-06-13 19:01:00  \n",
       "2019-06-13 19:02:00 2019-06-13 19:02:00  \n",
       "2019-06-13 19:03:00 2019-06-13 19:03:00  \n",
       "2019-06-13 19:04:00 2019-06-13 19:04:00  "
      ]
     },
     "execution_count": 520,
     "metadata": {},
     "output_type": "execute_result"
    }
   ],
   "source": [
    "data2.head()"
   ]
  },
  {
   "cell_type": "code",
   "execution_count": 550,
   "metadata": {},
   "outputs": [],
   "source": [
    "df1 = df[df.index>\"2019-06-13 19:00:00\"]\n",
    "data2[\"TE_1003\"] = df1.value\n",
    "data2= data2.dropna()"
   ]
  },
  {
   "cell_type": "code",
   "execution_count": 558,
   "metadata": {},
   "outputs": [
    {
     "name": "stderr",
     "output_type": "stream",
     "text": [
      "/root/anaconda3/lib/python3.7/site-packages/ipykernel_launcher.py:2: FutureWarning: Currently, 'apply' passes the values as ndarrays to the applied function. In the future, this will change to passing it as Series objects. You need to specify 'raw=True' to keep the current behaviour, and you can pass 'raw=False' to silence this warning\n",
      "  \n"
     ]
    }
   ],
   "source": [
    "data2['diff'] = data2[['TE_1003a','TE_1003b','TE_1003c']].max(axis=1)-data2['TE_1003']\n",
    "data2[\"slope\"] = data2['TE_1003'].rolling(window=\"5min\").apply(kc1.gradient)\n",
    "data2= data2.dropna()"
   ]
  },
  {
   "cell_type": "code",
   "execution_count": null,
   "metadata": {},
   "outputs": [],
   "source": []
  },
  {
   "cell_type": "markdown",
   "metadata": {},
   "source": [
    "for i in ['P2003A_AI','P2003B_AI']:\n",
    "    df = kc1.GetNode_data(i,start = \"2019-06-13 00:00:00\",\\\n",
    "                      end = \"2019-07-01 00:00:00\",month=\"2019_06\",save=True,factory=\"中碳能源\",freq =\"10S\")"
   ]
  },
  {
   "cell_type": "code",
   "execution_count": null,
   "metadata": {},
   "outputs": [],
   "source": [
    "df = kc1.GetNode_data(\"PT_4001\",start = \"2019-06-12 00:00:00\",\\\n",
    "                      end = \"2019-07-1 00:00:00\",month=\"2019_06\",save=True,factory=\"中碳能源\",freq =\"10S\")\n",
    "df= df[df.index>\"2019-06-13 19:00:00\"] "
   ]
  },
  {
   "cell_type": "code",
   "execution_count": 584,
   "metadata": {},
   "outputs": [
    {
     "data": {
      "text/html": [
       "<iframe src=\"./html/temp.html\" width=\"900px\" height=\"400px\" frameborder=\"0\" scrolling=\"no\"> </iframe>"
      ],
      "text/plain": [
       "<IPython.core.display.HTML object>"
      ]
     },
     "execution_count": 584,
     "metadata": {},
     "output_type": "execute_result"
    }
   ],
   "source": [
    "me.Plot_LineBar(df,columns=['value'],overwrite=True,name=\"temp\")"
   ]
  },
  {
   "cell_type": "code",
   "execution_count": null,
   "metadata": {},
   "outputs": [],
   "source": []
  },
  {
   "cell_type": "code",
   "execution_count": 586,
   "metadata": {},
   "outputs": [
    {
     "data": {
      "text/html": [
       "<iframe src=\"./html/P2002A_AI_06_raw.html\" width=\"900px\" height=\"400px\" frameborder=\"0\" scrolling=\"no\"> </iframe>"
      ],
      "text/plain": [
       "<IPython.core.display.HTML object>"
      ]
     },
     "execution_count": 586,
     "metadata": {},
     "output_type": "execute_result"
    }
   ],
   "source": [
    "r1 = kc1.ReadRawData('P2002A_AI')\n",
    "r1.columns = [\"P2002A_AI\"]\n",
    "r1= r1[r1.index>\"2019-06-13 19:00:00\"] \n",
    "r1 = r1.resample(\"1min\").mean()\n",
    "me.Plot_LineBar(r1,name=\"P2002A_AI_06_raw\",overwrite=True)"
   ]
  },
  {
   "cell_type": "code",
   "execution_count": 589,
   "metadata": {},
   "outputs": [
    {
     "data": {
      "text/html": [
       "<iframe src=\"./html/P2002B_AI_06_raw.html\" width=\"900px\" height=\"400px\" frameborder=\"0\" scrolling=\"no\"> </iframe>"
      ],
      "text/plain": [
       "<IPython.core.display.HTML object>"
      ]
     },
     "execution_count": 589,
     "metadata": {},
     "output_type": "execute_result"
    }
   ],
   "source": [
    "r1 = kc1.ReadRawData('P2002B_AI')\n",
    "r1.columns = [\"P2002B_AI\"]\n",
    "r1= r1[r1.index>\"2019-06-13 19:00:00\"] \n",
    "r1 = r1.resample(\"1min\").mean()\n",
    "me.Plot_LineBar(r1,name=\"P2002B_AI_06_raw\",overwrite=True)"
   ]
  },
  {
   "cell_type": "code",
   "execution_count": 590,
   "metadata": {},
   "outputs": [
    {
     "data": {
      "text/html": [
       "<iframe src=\"./html/temp.html\" width=\"900px\" height=\"400px\" frameborder=\"0\" scrolling=\"no\"> </iframe>"
      ],
      "text/plain": [
       "<IPython.core.display.HTML object>"
      ]
     },
     "execution_count": 590,
     "metadata": {},
     "output_type": "execute_result"
    }
   ],
   "source": [
    "me.Plot_LineBar(df,name=\"temp\",overwrite=True)"
   ]
  },
  {
   "cell_type": "code",
   "execution_count": null,
   "metadata": {},
   "outputs": [],
   "source": []
  },
  {
   "cell_type": "code",
   "execution_count": null,
   "metadata": {},
   "outputs": [],
   "source": []
  }
 ],
 "metadata": {
  "kernelspec": {
   "display_name": "Python 3",
   "language": "python",
   "name": "python3"
  },
  "language_info": {
   "codemirror_mode": {
    "name": "ipython",
    "version": 3
   },
   "file_extension": ".py",
   "mimetype": "text/x-python",
   "name": "python",
   "nbconvert_exporter": "python",
   "pygments_lexer": "ipython3",
   "version": "3.7.0"
  }
 },
 "nbformat": 4,
 "nbformat_minor": 2
}
